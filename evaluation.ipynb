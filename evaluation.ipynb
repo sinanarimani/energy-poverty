{
 "cells": [
  {
   "cell_type": "code",
   "execution_count": 1,
   "id": "41f64f1a",
   "metadata": {},
   "outputs": [],
   "source": [
    "import numpy as np\n",
    "import pandas as pd"
   ]
  },
  {
   "cell_type": "code",
   "execution_count": 18,
   "id": "10882ed3",
   "metadata": {},
   "outputs": [
    {
     "name": "stdout",
     "output_type": "stream",
     "text": [
      "<class 'pandas.core.frame.DataFrame'>\n",
      "RangeIndex: 33 entries, 0 to 32\n",
      "Data columns (total 7 columns):\n",
      " #   Column              Non-Null Count  Dtype  \n",
      "---  ------              --------------  -----  \n",
      " 0   year                33 non-null     int64  \n",
      " 1   Oil products        33 non-null     int64  \n",
      " 2   Natural gas         33 non-null     int64  \n",
      " 3   Biofuels and waste  33 non-null     int64  \n",
      " 4   Electricity         33 non-null     int64  \n",
      " 5   Coal                30 non-null     float64\n",
      " 6   Units               33 non-null     object \n",
      "dtypes: float64(1), int64(5), object(1)\n",
      "memory usage: 1.9+ KB\n"
     ]
    }
   ],
   "source": [
    "data = pd.read_csv(r\"C:\\Users\\Mahsa\\Desktop\\base\\energy poverty\\Residential total final consumption (TFC) by source - Islamic Republic of Iran.csv\",\n",
    "                   skiprows=3)\n",
    "data.rename(columns={\n",
    "    \"Unnamed: 0\" : \"year\"\n",
    "}, inplace = True)\n",
    "data.info()"
   ]
  },
  {
   "cell_type": "code",
   "execution_count": 19,
   "id": "e044450c",
   "metadata": {},
   "outputs": [
    {
     "data": {
      "application/vnd.microsoft.datawrangler.viewer.v0+json": {
       "columns": [
        {
         "name": "index",
         "rawType": "int64",
         "type": "integer"
        },
        {
         "name": "year",
         "rawType": "int64",
         "type": "integer"
        },
        {
         "name": "Oil products",
         "rawType": "int64",
         "type": "integer"
        },
        {
         "name": "Natural gas",
         "rawType": "int64",
         "type": "integer"
        },
        {
         "name": "Biofuels and waste",
         "rawType": "int64",
         "type": "integer"
        },
        {
         "name": "Electricity",
         "rawType": "int64",
         "type": "integer"
        },
        {
         "name": "Coal",
         "rawType": "float64",
         "type": "float"
        },
        {
         "name": "Units",
         "rawType": "object",
         "type": "string"
        }
       ],
       "ref": "aa3d8ac3-3b91-4e6d-a613-9e524258bc50",
       "rows": [
        [
         "0",
         "1990",
         "350837",
         "109286",
         "3526",
         "62438",
         null,
         "TJ"
        ],
        [
         "1",
         "1991",
         "369349",
         "157915",
         "3777",
         "68860",
         null,
         "TJ"
        ],
        [
         "2",
         "1992",
         "425104",
         "245763",
         "4402",
         "70232",
         null,
         "TJ"
        ],
        [
         "3",
         "1993",
         "407478",
         "269018",
         "4928",
         "79714",
         "774.0",
         "TJ"
        ],
        [
         "4",
         "1994",
         "490043",
         "343683",
         "5500",
         "80902",
         "774.0",
         "TJ"
        ]
       ],
       "shape": {
        "columns": 7,
        "rows": 5
       }
      },
      "text/html": [
       "<div>\n",
       "<style scoped>\n",
       "    .dataframe tbody tr th:only-of-type {\n",
       "        vertical-align: middle;\n",
       "    }\n",
       "\n",
       "    .dataframe tbody tr th {\n",
       "        vertical-align: top;\n",
       "    }\n",
       "\n",
       "    .dataframe thead th {\n",
       "        text-align: right;\n",
       "    }\n",
       "</style>\n",
       "<table border=\"1\" class=\"dataframe\">\n",
       "  <thead>\n",
       "    <tr style=\"text-align: right;\">\n",
       "      <th></th>\n",
       "      <th>year</th>\n",
       "      <th>Oil products</th>\n",
       "      <th>Natural gas</th>\n",
       "      <th>Biofuels and waste</th>\n",
       "      <th>Electricity</th>\n",
       "      <th>Coal</th>\n",
       "      <th>Units</th>\n",
       "    </tr>\n",
       "  </thead>\n",
       "  <tbody>\n",
       "    <tr>\n",
       "      <th>0</th>\n",
       "      <td>1990</td>\n",
       "      <td>350837</td>\n",
       "      <td>109286</td>\n",
       "      <td>3526</td>\n",
       "      <td>62438</td>\n",
       "      <td>NaN</td>\n",
       "      <td>TJ</td>\n",
       "    </tr>\n",
       "    <tr>\n",
       "      <th>1</th>\n",
       "      <td>1991</td>\n",
       "      <td>369349</td>\n",
       "      <td>157915</td>\n",
       "      <td>3777</td>\n",
       "      <td>68860</td>\n",
       "      <td>NaN</td>\n",
       "      <td>TJ</td>\n",
       "    </tr>\n",
       "    <tr>\n",
       "      <th>2</th>\n",
       "      <td>1992</td>\n",
       "      <td>425104</td>\n",
       "      <td>245763</td>\n",
       "      <td>4402</td>\n",
       "      <td>70232</td>\n",
       "      <td>NaN</td>\n",
       "      <td>TJ</td>\n",
       "    </tr>\n",
       "    <tr>\n",
       "      <th>3</th>\n",
       "      <td>1993</td>\n",
       "      <td>407478</td>\n",
       "      <td>269018</td>\n",
       "      <td>4928</td>\n",
       "      <td>79714</td>\n",
       "      <td>774.0</td>\n",
       "      <td>TJ</td>\n",
       "    </tr>\n",
       "    <tr>\n",
       "      <th>4</th>\n",
       "      <td>1994</td>\n",
       "      <td>490043</td>\n",
       "      <td>343683</td>\n",
       "      <td>5500</td>\n",
       "      <td>80902</td>\n",
       "      <td>774.0</td>\n",
       "      <td>TJ</td>\n",
       "    </tr>\n",
       "  </tbody>\n",
       "</table>\n",
       "</div>"
      ],
      "text/plain": [
       "   year  Oil products  Natural gas  Biofuels and waste  Electricity   Coal  \\\n",
       "0  1990        350837       109286                3526        62438    NaN   \n",
       "1  1991        369349       157915                3777        68860    NaN   \n",
       "2  1992        425104       245763                4402        70232    NaN   \n",
       "3  1993        407478       269018                4928        79714  774.0   \n",
       "4  1994        490043       343683                5500        80902  774.0   \n",
       "\n",
       "  Units  \n",
       "0    TJ  \n",
       "1    TJ  \n",
       "2    TJ  \n",
       "3    TJ  \n",
       "4    TJ  "
      ]
     },
     "execution_count": 19,
     "metadata": {},
     "output_type": "execute_result"
    }
   ],
   "source": [
    "data.head()"
   ]
  },
  {
   "cell_type": "code",
   "execution_count": 20,
   "id": "a5685cef",
   "metadata": {},
   "outputs": [
    {
     "data": {
      "text/plain": [
       "Index(['year', 'Oil products', 'Natural gas', 'Biofuels and waste',\n",
       "       'Electricity', 'Coal', 'Units'],\n",
       "      dtype='object')"
      ]
     },
     "execution_count": 20,
     "metadata": {},
     "output_type": "execute_result"
    }
   ],
   "source": [
    "data.columns"
   ]
  },
  {
   "cell_type": "code",
   "execution_count": 21,
   "id": "cd0de11d",
   "metadata": {},
   "outputs": [],
   "source": [
    "data.dropna(inplace = True)"
   ]
  },
  {
   "cell_type": "code",
   "execution_count": 22,
   "id": "90fdec66",
   "metadata": {},
   "outputs": [],
   "source": [
    "cols = ['Oil products', 'Natural gas', 'Biofuels and waste', 'Electricity', 'Coal']\n",
    "\n",
    "# Calculate row totals for just these columns\n",
    "row_totals = data[cols].sum(axis=1)\n",
    "\n",
    "# Divide each column by the row total\n",
    "data[cols] = (data[cols].div(row_totals, axis=0))*100"
   ]
  },
  {
   "cell_type": "code",
   "execution_count": 23,
   "id": "499a2fcb",
   "metadata": {},
   "outputs": [
    {
     "data": {
      "application/vnd.microsoft.datawrangler.viewer.v0+json": {
       "columns": [
        {
         "name": "index",
         "rawType": "int64",
         "type": "integer"
        },
        {
         "name": "year",
         "rawType": "int64",
         "type": "integer"
        },
        {
         "name": "Oil products",
         "rawType": "float64",
         "type": "float"
        },
        {
         "name": "Natural gas",
         "rawType": "float64",
         "type": "float"
        },
        {
         "name": "Biofuels and waste",
         "rawType": "float64",
         "type": "float"
        },
        {
         "name": "Electricity",
         "rawType": "float64",
         "type": "float"
        },
        {
         "name": "Coal",
         "rawType": "float64",
         "type": "float"
        },
        {
         "name": "Units",
         "rawType": "object",
         "type": "string"
        }
       ],
       "ref": "a91eb1d3-203d-466a-9895-8412169865c0",
       "rows": [
        [
         "3",
         "1993",
         "53.480979430695406",
         "35.30827707136782",
         "0.6467938554583732",
         "10.462363107550479",
         "0.10158653492791819",
         "TJ"
        ],
        [
         "4",
         "1994",
         "53.21337123819907",
         "37.320257747295585",
         "0.5972405315657909",
         "8.785082451770112",
         "0.0840480311694404",
         "TJ"
        ],
        [
         "5",
         "1995",
         "50.41109579811971",
         "40.354146487306714",
         "0.5398000118772385",
         "8.61570785269767",
         "0.07924984999866894",
         "TJ"
        ],
        [
         "6",
         "1996",
         "47.381637624169585",
         "43.6658907626226",
         "0.5387239194385686",
         "8.339021472685829",
         "0.07472622108341435",
         "TJ"
        ],
        [
         "7",
         "1997",
         "44.751483797107674",
         "46.106713836606154",
         "0.42369619225916655",
         "8.648003383772924",
         "0.07010279025408185",
         "TJ"
        ]
       ],
       "shape": {
        "columns": 7,
        "rows": 5
       }
      },
      "text/html": [
       "<div>\n",
       "<style scoped>\n",
       "    .dataframe tbody tr th:only-of-type {\n",
       "        vertical-align: middle;\n",
       "    }\n",
       "\n",
       "    .dataframe tbody tr th {\n",
       "        vertical-align: top;\n",
       "    }\n",
       "\n",
       "    .dataframe thead th {\n",
       "        text-align: right;\n",
       "    }\n",
       "</style>\n",
       "<table border=\"1\" class=\"dataframe\">\n",
       "  <thead>\n",
       "    <tr style=\"text-align: right;\">\n",
       "      <th></th>\n",
       "      <th>year</th>\n",
       "      <th>Oil products</th>\n",
       "      <th>Natural gas</th>\n",
       "      <th>Biofuels and waste</th>\n",
       "      <th>Electricity</th>\n",
       "      <th>Coal</th>\n",
       "      <th>Units</th>\n",
       "    </tr>\n",
       "  </thead>\n",
       "  <tbody>\n",
       "    <tr>\n",
       "      <th>3</th>\n",
       "      <td>1993</td>\n",
       "      <td>53.480979</td>\n",
       "      <td>35.308277</td>\n",
       "      <td>0.646794</td>\n",
       "      <td>10.462363</td>\n",
       "      <td>0.101587</td>\n",
       "      <td>TJ</td>\n",
       "    </tr>\n",
       "    <tr>\n",
       "      <th>4</th>\n",
       "      <td>1994</td>\n",
       "      <td>53.213371</td>\n",
       "      <td>37.320258</td>\n",
       "      <td>0.597241</td>\n",
       "      <td>8.785082</td>\n",
       "      <td>0.084048</td>\n",
       "      <td>TJ</td>\n",
       "    </tr>\n",
       "    <tr>\n",
       "      <th>5</th>\n",
       "      <td>1995</td>\n",
       "      <td>50.411096</td>\n",
       "      <td>40.354146</td>\n",
       "      <td>0.539800</td>\n",
       "      <td>8.615708</td>\n",
       "      <td>0.079250</td>\n",
       "      <td>TJ</td>\n",
       "    </tr>\n",
       "    <tr>\n",
       "      <th>6</th>\n",
       "      <td>1996</td>\n",
       "      <td>47.381638</td>\n",
       "      <td>43.665891</td>\n",
       "      <td>0.538724</td>\n",
       "      <td>8.339021</td>\n",
       "      <td>0.074726</td>\n",
       "      <td>TJ</td>\n",
       "    </tr>\n",
       "    <tr>\n",
       "      <th>7</th>\n",
       "      <td>1997</td>\n",
       "      <td>44.751484</td>\n",
       "      <td>46.106714</td>\n",
       "      <td>0.423696</td>\n",
       "      <td>8.648003</td>\n",
       "      <td>0.070103</td>\n",
       "      <td>TJ</td>\n",
       "    </tr>\n",
       "  </tbody>\n",
       "</table>\n",
       "</div>"
      ],
      "text/plain": [
       "   year  Oil products  Natural gas  Biofuels and waste  Electricity      Coal  \\\n",
       "3  1993     53.480979    35.308277            0.646794    10.462363  0.101587   \n",
       "4  1994     53.213371    37.320258            0.597241     8.785082  0.084048   \n",
       "5  1995     50.411096    40.354146            0.539800     8.615708  0.079250   \n",
       "6  1996     47.381638    43.665891            0.538724     8.339021  0.074726   \n",
       "7  1997     44.751484    46.106714            0.423696     8.648003  0.070103   \n",
       "\n",
       "  Units  \n",
       "3    TJ  \n",
       "4    TJ  \n",
       "5    TJ  \n",
       "6    TJ  \n",
       "7    TJ  "
      ]
     },
     "execution_count": 23,
     "metadata": {},
     "output_type": "execute_result"
    }
   ],
   "source": [
    "data.head()"
   ]
  },
  {
   "cell_type": "code",
   "execution_count": 32,
   "id": "ecbe6613",
   "metadata": {},
   "outputs": [
    {
     "data": {
      "image/png": "[encoded data removed]",
      "text/plain": [
       "<Figure size 500x500 with 1 Axes>"
      ]
     },
     "metadata": {},
     "output_type": "display_data"
    }
   ],
   "source": [
    "import matplotlib.pyplot as plt\n",
    "\n",
    "fig, ax = plt.subplots(figsize=(5, 5))\n",
    "\n",
    "ax.stackplot(data[\"year\"], data[cols].T, labels=cols)\n",
    "\n",
    "ax.legend(loc='upper left')\n",
    "plt.show()"
   ]
  },
  {
   "cell_type": "code",
   "execution_count": 33,
   "id": "607b8eed",
   "metadata": {},
   "outputs": [
    {
     "data": {
      "application/vnd.microsoft.datawrangler.viewer.v0+json": {
       "columns": [
        {
         "name": "index",
         "rawType": "int64",
         "type": "integer"
        },
        {
         "name": "year",
         "rawType": "int64",
         "type": "integer"
        },
        {
         "name": "Oil products",
         "rawType": "float64",
         "type": "float"
        },
        {
         "name": "Natural gas",
         "rawType": "float64",
         "type": "float"
        },
        {
         "name": "Biofuels and waste",
         "rawType": "float64",
         "type": "float"
        },
        {
         "name": "Electricity",
         "rawType": "float64",
         "type": "float"
        },
        {
         "name": "Coal",
         "rawType": "float64",
         "type": "float"
        },
        {
         "name": "Units",
         "rawType": "object",
         "type": "string"
        }
       ],
       "ref": "a2639d86-5799-4813-be16-9599377a419d",
       "rows": [
        [
         "32",
         "2022",
         "5.5522533212589265",
         "80.49985691680355",
         "0.40398014049372166",
         "13.53063120655549",
         "0.013278414888303152",
         "TJ"
        ]
       ],
       "shape": {
        "columns": 7,
        "rows": 1
       }
      },
      "text/html": [
       "<div>\n",
       "<style scoped>\n",
       "    .dataframe tbody tr th:only-of-type {\n",
       "        vertical-align: middle;\n",
       "    }\n",
       "\n",
       "    .dataframe tbody tr th {\n",
       "        vertical-align: top;\n",
       "    }\n",
       "\n",
       "    .dataframe thead th {\n",
       "        text-align: right;\n",
       "    }\n",
       "</style>\n",
       "<table border=\"1\" class=\"dataframe\">\n",
       "  <thead>\n",
       "    <tr style=\"text-align: right;\">\n",
       "      <th></th>\n",
       "      <th>year</th>\n",
       "      <th>Oil products</th>\n",
       "      <th>Natural gas</th>\n",
       "      <th>Biofuels and waste</th>\n",
       "      <th>Electricity</th>\n",
       "      <th>Coal</th>\n",
       "      <th>Units</th>\n",
       "    </tr>\n",
       "  </thead>\n",
       "  <tbody>\n",
       "    <tr>\n",
       "      <th>32</th>\n",
       "      <td>2022</td>\n",
       "      <td>5.552253</td>\n",
       "      <td>80.499857</td>\n",
       "      <td>0.40398</td>\n",
       "      <td>13.530631</td>\n",
       "      <td>0.013278</td>\n",
       "      <td>TJ</td>\n",
       "    </tr>\n",
       "  </tbody>\n",
       "</table>\n",
       "</div>"
      ],
      "text/plain": [
       "    year  Oil products  Natural gas  Biofuels and waste  Electricity  \\\n",
       "32  2022      5.552253    80.499857             0.40398    13.530631   \n",
       "\n",
       "        Coal Units  \n",
       "32  0.013278    TJ  "
      ]
     },
     "execution_count": 33,
     "metadata": {},
     "output_type": "execute_result"
    }
   ],
   "source": [
    "data.loc[data[\"year\"]==2022]"
   ]
  },
  {
   "cell_type": "code",
   "execution_count": null,
   "id": "1609776d",
   "metadata": {},
   "outputs": [],
   "source": []
  }
 ],
 "metadata": {
  "kernelspec": {
   "display_name": "base",
   "language": "python",
   "name": "python3"
  },
  "language_info": {
   "codemirror_mode": {
    "name": "ipython",
    "version": 3
   },
   "file_extension": ".py",
   "mimetype": "text/x-python",
   "name": "python",
   "nbconvert_exporter": "python",
   "pygments_lexer": "ipython3",
   "version": "3.12.3"
  }
 },
 "nbformat": 4,
 "nbformat_minor": 5
}
