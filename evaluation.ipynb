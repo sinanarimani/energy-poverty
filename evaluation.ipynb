{
 "cells": [
  {
   "cell_type": "code",
   "execution_count": 1,
   "id": "41f64f1a",
   "metadata": {},
   "outputs": [],
   "source": [
    "import numpy as np\n",
    "import pandas as pd\n",
    "import matplotlib.pyplot as plt\n",
    "plt.rcParams[\"font.family\"] = \"Times New Roman\""
   ]
  },
  {
   "cell_type": "code",
   "execution_count": 3,
   "id": "10882ed3",
   "metadata": {},
   "outputs": [
    {
     "name": "stdout",
     "output_type": "stream",
     "text": [
      "<class 'pandas.core.frame.DataFrame'>\n",
      "RangeIndex: 33 entries, 0 to 32\n",
      "Data columns (total 7 columns):\n",
      " #   Column              Non-Null Count  Dtype  \n",
      "---  ------              --------------  -----  \n",
      " 0   year                33 non-null     int64  \n",
      " 1   Oil products        33 non-null     int64  \n",
      " 2   Natural gas         33 non-null     int64  \n",
      " 3   Biofuels and waste  33 non-null     int64  \n",
      " 4   Electricity         33 non-null     int64  \n",
      " 5   Coal                30 non-null     float64\n",
      " 6   Units               33 non-null     object \n",
      "dtypes: float64(1), int64(5), object(1)\n",
      "memory usage: 1.9+ KB\n"
     ]
    }
   ],
   "source": [
    "data = pd.read_csv(r\"C:\\Users\\Mahsa\\Desktop\\base\\energy poverty\\Residential total final consumption (TFC) by source - Islamic Republic of Iran.csv\",\n",
    "                   skiprows=3)\n",
    "data.rename(columns={\n",
    "    \"Unnamed: 0\" : \"year\"\n",
    "}, inplace = True)\n",
    "data.info()"
   ]
  },
  {
   "cell_type": "code",
   "execution_count": 19,
   "id": "e044450c",
   "metadata": {},
   "outputs": [
    {
     "data": {
      "application/vnd.microsoft.datawrangler.viewer.v0+json": {
       "columns": [
        {
         "name": "index",
         "rawType": "int64",
         "type": "integer"
        },
        {
         "name": "year",
         "rawType": "int64",
         "type": "integer"
        },
        {
         "name": "Oil products",
         "rawType": "int64",
         "type": "integer"
        },
        {
         "name": "Natural gas",
         "rawType": "int64",
         "type": "integer"
        },
        {
         "name": "Biofuels and waste",
         "rawType": "int64",
         "type": "integer"
        },
        {
         "name": "Electricity",
         "rawType": "int64",
         "type": "integer"
        },
        {
         "name": "Coal",
         "rawType": "float64",
         "type": "float"
        },
        {
         "name": "Units",
         "rawType": "object",
         "type": "string"
        }
       ],
       "ref": "aa3d8ac3-3b91-4e6d-a613-9e524258bc50",
       "rows": [
        [
         "0",
         "1990",
         "350837",
         "109286",
         "3526",
         "62438",
         null,
         "TJ"
        ],
        [
         "1",
         "1991",
         "369349",
         "157915",
         "3777",
         "68860",
         null,
         "TJ"
        ],
        [
         "2",
         "1992",
         "425104",
         "245763",
         "4402",
         "70232",
         null,
         "TJ"
        ],
        [
         "3",
         "1993",
         "407478",
         "269018",
         "4928",
         "79714",
         "774.0",
         "TJ"
        ],
        [
         "4",
         "1994",
         "490043",
         "343683",
         "5500",
         "80902",
         "774.0",
         "TJ"
        ]
       ],
       "shape": {
        "columns": 7,
        "rows": 5
       }
      },
      "text/html": [
       "<div>\n",
       "<style scoped>\n",
       "    .dataframe tbody tr th:only-of-type {\n",
       "        vertical-align: middle;\n",
       "    }\n",
       "\n",
       "    .dataframe tbody tr th {\n",
       "        vertical-align: top;\n",
       "    }\n",
       "\n",
       "    .dataframe thead th {\n",
       "        text-align: right;\n",
       "    }\n",
       "</style>\n",
       "<table border=\"1\" class=\"dataframe\">\n",
       "  <thead>\n",
       "    <tr style=\"text-align: right;\">\n",
       "      <th></th>\n",
       "      <th>year</th>\n",
       "      <th>Oil products</th>\n",
       "      <th>Natural gas</th>\n",
       "      <th>Biofuels and waste</th>\n",
       "      <th>Electricity</th>\n",
       "      <th>Coal</th>\n",
       "      <th>Units</th>\n",
       "    </tr>\n",
       "  </thead>\n",
       "  <tbody>\n",
       "    <tr>\n",
       "      <th>0</th>\n",
       "      <td>1990</td>\n",
       "      <td>350837</td>\n",
       "      <td>109286</td>\n",
       "      <td>3526</td>\n",
       "      <td>62438</td>\n",
       "      <td>NaN</td>\n",
       "      <td>TJ</td>\n",
       "    </tr>\n",
       "    <tr>\n",
       "      <th>1</th>\n",
       "      <td>1991</td>\n",
       "      <td>369349</td>\n",
       "      <td>157915</td>\n",
       "      <td>3777</td>\n",
       "      <td>68860</td>\n",
       "      <td>NaN</td>\n",
       "      <td>TJ</td>\n",
       "    </tr>\n",
       "    <tr>\n",
       "      <th>2</th>\n",
       "      <td>1992</td>\n",
       "      <td>425104</td>\n",
       "      <td>245763</td>\n",
       "      <td>4402</td>\n",
       "      <td>70232</td>\n",
       "      <td>NaN</td>\n",
       "      <td>TJ</td>\n",
       "    </tr>\n",
       "    <tr>\n",
       "      <th>3</th>\n",
       "      <td>1993</td>\n",
       "      <td>407478</td>\n",
       "      <td>269018</td>\n",
       "      <td>4928</td>\n",
       "      <td>79714</td>\n",
       "      <td>774.0</td>\n",
       "      <td>TJ</td>\n",
       "    </tr>\n",
       "    <tr>\n",
       "      <th>4</th>\n",
       "      <td>1994</td>\n",
       "      <td>490043</td>\n",
       "      <td>343683</td>\n",
       "      <td>5500</td>\n",
       "      <td>80902</td>\n",
       "      <td>774.0</td>\n",
       "      <td>TJ</td>\n",
       "    </tr>\n",
       "  </tbody>\n",
       "</table>\n",
       "</div>"
      ],
      "text/plain": [
       "   year  Oil products  Natural gas  Biofuels and waste  Electricity   Coal  \\\n",
       "0  1990        350837       109286                3526        62438    NaN   \n",
       "1  1991        369349       157915                3777        68860    NaN   \n",
       "2  1992        425104       245763                4402        70232    NaN   \n",
       "3  1993        407478       269018                4928        79714  774.0   \n",
       "4  1994        490043       343683                5500        80902  774.0   \n",
       "\n",
       "  Units  \n",
       "0    TJ  \n",
       "1    TJ  \n",
       "2    TJ  \n",
       "3    TJ  \n",
       "4    TJ  "
      ]
     },
     "execution_count": 19,
     "metadata": {},
     "output_type": "execute_result"
    }
   ],
   "source": [
    "data.head()"
   ]
  },
  {
   "cell_type": "code",
   "execution_count": 20,
   "id": "a5685cef",
   "metadata": {},
   "outputs": [
    {
     "data": {
      "text/plain": [
       "Index(['year', 'Oil products', 'Natural gas', 'Biofuels and waste',\n",
       "       'Electricity', 'Coal', 'Units'],\n",
       "      dtype='object')"
      ]
     },
     "execution_count": 20,
     "metadata": {},
     "output_type": "execute_result"
    }
   ],
   "source": [
    "data.columns"
   ]
  },
  {
   "cell_type": "code",
   "execution_count": 4,
   "id": "cd0de11d",
   "metadata": {},
   "outputs": [],
   "source": [
    "data.dropna(inplace = True)"
   ]
  },
  {
   "cell_type": "code",
   "execution_count": 5,
   "id": "90fdec66",
   "metadata": {},
   "outputs": [],
   "source": [
    "cols = ['Oil products', 'Natural gas', 'Biofuels and waste', 'Electricity', 'Coal']\n",
    "\n",
    "# Calculate row totals for just these columns\n",
    "row_totals = data[cols].sum(axis=1)\n",
    "\n",
    "# Divide each column by the row total\n",
    "data[cols] = (data[cols].div(row_totals, axis=0))*100"
   ]
  },
  {
   "cell_type": "code",
   "execution_count": 23,
   "id": "499a2fcb",
   "metadata": {},
   "outputs": [
    {
     "data": {
      "application/vnd.microsoft.datawrangler.viewer.v0+json": {
       "columns": [
        {
         "name": "index",
         "rawType": "int64",
         "type": "integer"
        },
        {
         "name": "year",
         "rawType": "int64",
         "type": "integer"
        },
        {
         "name": "Oil products",
         "rawType": "float64",
         "type": "float"
        },
        {
         "name": "Natural gas",
         "rawType": "float64",
         "type": "float"
        },
        {
         "name": "Biofuels and waste",
         "rawType": "float64",
         "type": "float"
        },
        {
         "name": "Electricity",
         "rawType": "float64",
         "type": "float"
        },
        {
         "name": "Coal",
         "rawType": "float64",
         "type": "float"
        },
        {
         "name": "Units",
         "rawType": "object",
         "type": "string"
        }
       ],
       "ref": "a91eb1d3-203d-466a-9895-8412169865c0",
       "rows": [
        [
         "3",
         "1993",
         "53.480979430695406",
         "35.30827707136782",
         "0.6467938554583732",
         "10.462363107550479",
         "0.10158653492791819",
         "TJ"
        ],
        [
         "4",
         "1994",
         "53.21337123819907",
         "37.320257747295585",
         "0.5972405315657909",
         "8.785082451770112",
         "0.0840480311694404",
         "TJ"
        ],
        [
         "5",
         "1995",
         "50.41109579811971",
         "40.354146487306714",
         "0.5398000118772385",
         "8.61570785269767",
         "0.07924984999866894",
         "TJ"
        ],
        [
         "6",
         "1996",
         "47.381637624169585",
         "43.6658907626226",
         "0.5387239194385686",
         "8.339021472685829",
         "0.07472622108341435",
         "TJ"
        ],
        [
         "7",
         "1997",
         "44.751483797107674",
         "46.106713836606154",
         "0.42369619225916655",
         "8.648003383772924",
         "0.07010279025408185",
         "TJ"
        ]
       ],
       "shape": {
        "columns": 7,
        "rows": 5
       }
      },
      "text/html": [
       "<div>\n",
       "<style scoped>\n",
       "    .dataframe tbody tr th:only-of-type {\n",
       "        vertical-align: middle;\n",
       "    }\n",
       "\n",
       "    .dataframe tbody tr th {\n",
       "        vertical-align: top;\n",
       "    }\n",
       "\n",
       "    .dataframe thead th {\n",
       "        text-align: right;\n",
       "    }\n",
       "</style>\n",
       "<table border=\"1\" class=\"dataframe\">\n",
       "  <thead>\n",
       "    <tr style=\"text-align: right;\">\n",
       "      <th></th>\n",
       "      <th>year</th>\n",
       "      <th>Oil products</th>\n",
       "      <th>Natural gas</th>\n",
       "      <th>Biofuels and waste</th>\n",
       "      <th>Electricity</th>\n",
       "      <th>Coal</th>\n",
       "      <th>Units</th>\n",
       "    </tr>\n",
       "  </thead>\n",
       "  <tbody>\n",
       "    <tr>\n",
       "      <th>3</th>\n",
       "      <td>1993</td>\n",
       "      <td>53.480979</td>\n",
       "      <td>35.308277</td>\n",
       "      <td>0.646794</td>\n",
       "      <td>10.462363</td>\n",
       "      <td>0.101587</td>\n",
       "      <td>TJ</td>\n",
       "    </tr>\n",
       "    <tr>\n",
       "      <th>4</th>\n",
       "      <td>1994</td>\n",
       "      <td>53.213371</td>\n",
       "      <td>37.320258</td>\n",
       "      <td>0.597241</td>\n",
       "      <td>8.785082</td>\n",
       "      <td>0.084048</td>\n",
       "      <td>TJ</td>\n",
       "    </tr>\n",
       "    <tr>\n",
       "      <th>5</th>\n",
       "      <td>1995</td>\n",
       "      <td>50.411096</td>\n",
       "      <td>40.354146</td>\n",
       "      <td>0.539800</td>\n",
       "      <td>8.615708</td>\n",
       "      <td>0.079250</td>\n",
       "      <td>TJ</td>\n",
       "    </tr>\n",
       "    <tr>\n",
       "      <th>6</th>\n",
       "      <td>1996</td>\n",
       "      <td>47.381638</td>\n",
       "      <td>43.665891</td>\n",
       "      <td>0.538724</td>\n",
       "      <td>8.339021</td>\n",
       "      <td>0.074726</td>\n",
       "      <td>TJ</td>\n",
       "    </tr>\n",
       "    <tr>\n",
       "      <th>7</th>\n",
       "      <td>1997</td>\n",
       "      <td>44.751484</td>\n",
       "      <td>46.106714</td>\n",
       "      <td>0.423696</td>\n",
       "      <td>8.648003</td>\n",
       "      <td>0.070103</td>\n",
       "      <td>TJ</td>\n",
       "    </tr>\n",
       "  </tbody>\n",
       "</table>\n",
       "</div>"
      ],
      "text/plain": [
       "   year  Oil products  Natural gas  Biofuels and waste  Electricity      Coal  \\\n",
       "3  1993     53.480979    35.308277            0.646794    10.462363  0.101587   \n",
       "4  1994     53.213371    37.320258            0.597241     8.785082  0.084048   \n",
       "5  1995     50.411096    40.354146            0.539800     8.615708  0.079250   \n",
       "6  1996     47.381638    43.665891            0.538724     8.339021  0.074726   \n",
       "7  1997     44.751484    46.106714            0.423696     8.648003  0.070103   \n",
       "\n",
       "  Units  \n",
       "3    TJ  \n",
       "4    TJ  \n",
       "5    TJ  \n",
       "6    TJ  \n",
       "7    TJ  "
      ]
     },
     "execution_count": 23,
     "metadata": {},
     "output_type": "execute_result"
    }
   ],
   "source": [
    "data.head()"
   ]
  },
  {
   "cell_type": "code",
   "execution_count": 6,
   "id": "ecbe6613",
   "metadata": {},
   "outputs": [
    {
     "data": {
      "image/png": "[encoded data removed]",
      "text/plain": [
       "<Figure size 500x500 with 1 Axes>"
      ]
     },
     "metadata": {},
     "output_type": "display_data"
    }
   ],
   "source": [
    "import matplotlib.pyplot as plt\n",
    "\n",
    "fig, ax = plt.subplots(figsize=(5, 5))\n",
    "\n",
    "ax.stackplot(data[\"year\"], data[cols].T, labels=cols)\n",
    "\n",
    "ax.legend(loc='upper left')\n",
    "plt.show()"
   ]
  },
  {
   "cell_type": "code",
   "execution_count": 33,
   "id": "607b8eed",
   "metadata": {},
   "outputs": [
    {
     "data": {
      "application/vnd.microsoft.datawrangler.viewer.v0+json": {
       "columns": [
        {
         "name": "index",
         "rawType": "int64",
         "type": "integer"
        },
        {
         "name": "year",
         "rawType": "int64",
         "type": "integer"
        },
        {
         "name": "Oil products",
         "rawType": "float64",
         "type": "float"
        },
        {
         "name": "Natural gas",
         "rawType": "float64",
         "type": "float"
        },
        {
         "name": "Biofuels and waste",
         "rawType": "float64",
         "type": "float"
        },
        {
         "name": "Electricity",
         "rawType": "float64",
         "type": "float"
        },
        {
         "name": "Coal",
         "rawType": "float64",
         "type": "float"
        },
        {
         "name": "Units",
         "rawType": "object",
         "type": "string"
        }
       ],
       "ref": "a2639d86-5799-4813-be16-9599377a419d",
       "rows": [
        [
         "32",
         "2022",
         "5.5522533212589265",
         "80.49985691680355",
         "0.40398014049372166",
         "13.53063120655549",
         "0.013278414888303152",
         "TJ"
        ]
       ],
       "shape": {
        "columns": 7,
        "rows": 1
       }
      },
      "text/html": [
       "<div>\n",
       "<style scoped>\n",
       "    .dataframe tbody tr th:only-of-type {\n",
       "        vertical-align: middle;\n",
       "    }\n",
       "\n",
       "    .dataframe tbody tr th {\n",
       "        vertical-align: top;\n",
       "    }\n",
       "\n",
       "    .dataframe thead th {\n",
       "        text-align: right;\n",
       "    }\n",
       "</style>\n",
       "<table border=\"1\" class=\"dataframe\">\n",
       "  <thead>\n",
       "    <tr style=\"text-align: right;\">\n",
       "      <th></th>\n",
       "      <th>year</th>\n",
       "      <th>Oil products</th>\n",
       "      <th>Natural gas</th>\n",
       "      <th>Biofuels and waste</th>\n",
       "      <th>Electricity</th>\n",
       "      <th>Coal</th>\n",
       "      <th>Units</th>\n",
       "    </tr>\n",
       "  </thead>\n",
       "  <tbody>\n",
       "    <tr>\n",
       "      <th>32</th>\n",
       "      <td>2022</td>\n",
       "      <td>5.552253</td>\n",
       "      <td>80.499857</td>\n",
       "      <td>0.40398</td>\n",
       "      <td>13.530631</td>\n",
       "      <td>0.013278</td>\n",
       "      <td>TJ</td>\n",
       "    </tr>\n",
       "  </tbody>\n",
       "</table>\n",
       "</div>"
      ],
      "text/plain": [
       "    year  Oil products  Natural gas  Biofuels and waste  Electricity  \\\n",
       "32  2022      5.552253    80.499857             0.40398    13.530631   \n",
       "\n",
       "        Coal Units  \n",
       "32  0.013278    TJ  "
      ]
     },
     "execution_count": 33,
     "metadata": {},
     "output_type": "execute_result"
    }
   ],
   "source": [
    "data.loc[data[\"year\"]==2022]"
   ]
  },
  {
   "cell_type": "markdown",
   "id": "89efdfc6",
   "metadata": {},
   "source": [
    "# Working on HIES"
   ]
  },
  {
   "cell_type": "code",
   "execution_count": 6,
   "id": "365e1af3",
   "metadata": {},
   "outputs": [
    {
     "name": "stdout",
     "output_type": "stream",
     "text": [
      "<class 'pandas.core.frame.DataFrame'>\n",
      "Index: 582542 entries, 0 to 582542\n",
      "Columns: 113 entries, HHID to energy_Ratio\n",
      "dtypes: float64(98), object(15)\n",
      "memory usage: 506.7+ MB\n"
     ]
    }
   ],
   "source": [
    "data = pd.read_pickle(\"merged\")\n",
    "data.info()"
   ]
  },
  {
   "cell_type": "code",
   "execution_count": 18,
   "id": "4735c4fa",
   "metadata": {},
   "outputs": [],
   "source": [
    "def weighted_describe(values, weights):\n",
    "    values = np.asarray(values)\n",
    "    weights = np.asarray(weights)\n",
    "\n",
    "    # Drop NaNs\n",
    "    mask = ~np.isnan(values)\n",
    "    values = values[mask]\n",
    "    weights = weights[mask]\n",
    "\n",
    "    # Weighted count\n",
    "    count = weights.sum()\n",
    "\n",
    "    # Weighted mean\n",
    "    mean = np.average(values, weights=weights)\n",
    "\n",
    "    # Weighted variance and std\n",
    "    variance = np.average((values - mean) ** 2, weights=weights)\n",
    "    std = np.sqrt(variance)\n",
    "\n",
    "    # Weighted min and max\n",
    "    min_val = values.min()\n",
    "    max_val = values.max()\n",
    "\n",
    "    # Weighted percentiles\n",
    "    def weighted_percentile(data, weights, percent):\n",
    "        \"\"\"Compute weighted percentile (percent between 0-100).\"\"\"\n",
    "        sorter = np.argsort(data)\n",
    "        data, weights = data[sorter], weights[sorter]\n",
    "        cdf = np.cumsum(weights) / weights.sum()\n",
    "        return np.interp(percent / 100, cdf, data)\n",
    "\n",
    "    q25 = weighted_percentile(values, weights, 25)\n",
    "    q50 = weighted_percentile(values, weights, 50)  # median\n",
    "    q75 = weighted_percentile(values, weights, 75)\n",
    "\n",
    "    return pd.Series({\n",
    "        \"count\": count,\n",
    "        \"mean\": mean,\n",
    "        \"std\": std,\n",
    "        \"min\": min_val,\n",
    "        \"25%\": q25,\n",
    "        \"50%\": q50,\n",
    "        \"75%\": q75,\n",
    "        \"max\": max_val\n",
    "    })\n"
   ]
  },
  {
   "cell_type": "code",
   "execution_count": 22,
   "id": "344423bd",
   "metadata": {},
   "outputs": [
    {
     "name": "stderr",
     "output_type": "stream",
     "text": [
      "C:\\Users\\Mahsa\\AppData\\Local\\Temp\\ipykernel_12548\\1825656094.py:2: SettingWithCopyWarning: \n",
      "A value is trying to be set on a copy of a slice from a DataFrame.\n",
      "Try using .loc[row_indexer,col_indexer] = value instead\n",
      "\n",
      "See the caveats in the documentation: https://pandas.pydata.org/pandas-docs/stable/user_guide/indexing.html#returning-a-view-versus-a-copy\n",
      "  df[\"HouseExpRatio\"] = 100*((df[\"RentExp\"]+df[\"EstRentExp\"])/df[\"all_expenditure\"])\n"
     ]
    },
    {
     "data": {
      "application/vnd.microsoft.datawrangler.viewer.v0+json": {
       "columns": [
        {
         "name": "index",
         "rawType": "object",
         "type": "string"
        },
        {
         "name": "0",
         "rawType": "float64",
         "type": "float"
        }
       ],
       "ref": "b264ed41-bece-4a6a-bd72-e1963614c228",
       "rows": [
        [
         "count",
         "3353775.601768052"
        ],
        [
         "mean",
         "31.9407345940449"
        ],
        [
         "std",
         "12.302340843815912"
        ],
        [
         "min",
         "1.000031905779851"
        ],
        [
         "25%",
         "23.930642776769943"
        ],
        [
         "50%",
         "30.710630256258412"
        ],
        [
         "75%",
         "39.83276907695443"
        ],
        [
         "max",
         "100.0"
        ]
       ],
       "shape": {
        "columns": 1,
        "rows": 8
       }
      },
      "text/plain": [
       "count    3.353776e+06\n",
       "mean     3.194073e+01\n",
       "std      1.230234e+01\n",
       "min      1.000032e+00\n",
       "25%      2.393064e+01\n",
       "50%      3.071063e+01\n",
       "75%      3.983277e+01\n",
       "max      1.000000e+02\n",
       "dtype: float64"
      ]
     },
     "execution_count": 22,
     "metadata": {},
     "output_type": "execute_result"
    }
   ],
   "source": [
    "df = data.loc[(data[\"Tenure\"]==\"Rented\")&(data[\"year\"]==1402)&(data[\"region\"]==\"Urban\")]\n",
    "df[\"HouseExpRatio\"] = 100*((df[\"RentExp\"]+df[\"EstRentExp\"])/df[\"all_expenditure\"])\n",
    "weighted_describe(df[\"HouseExpRatio\"], weights= df[\"weight\"])"
   ]
  },
  {
   "cell_type": "code",
   "execution_count": 23,
   "id": "86a02795",
   "metadata": {},
   "outputs": [],
   "source": [
    "data = data[['HHID',\n",
    "'region',\n",
    "'quarter',\n",
    "'weight',\n",
    "'county_code',\n",
    "'province_code',\n",
    "'HHsize',\n",
    "'NumChild_U5',\n",
    "'NumChild_B5_7',\n",
    "'NumChild_B7_18',\n",
    "'NumChildOver18',\n",
    "'HeadWoman',\n",
    "'NumEmployed',\n",
    "'NumOld',\n",
    "'NumMale',\n",
    "'Tenure',\n",
    "'Room',\n",
    "'Area',\n",
    "'Skeleton',\n",
    "'MainMaterial',\n",
    "'PrivateVehicle',\n",
    "'Motorcycle',\n",
    "'Bike',\n",
    "'Radio',\n",
    "'Cassette',\n",
    "'TVbw',\n",
    "'TV',\n",
    "'VideoPlayer',\n",
    "'Computer',\n",
    "'Cellphone',\n",
    "'Freezer',\n",
    "'Refrigerator',\n",
    "'Freez_refrig',\n",
    "'Vacuum',\n",
    "'Washer',\n",
    "'Sewing',\n",
    "'Fan',\n",
    "'Cooler_water_portable',\n",
    "'Cooler_gas_portable',\n",
    "'Dishwasher',\n",
    "'None',\n",
    "'Pipewater',\n",
    "'Electricity',\n",
    "'Pipegas',\n",
    "'Phone',\n",
    "'Internet',\n",
    "'Bathroom',\n",
    "'Kitchen',\n",
    "'Cooler_water',\n",
    "'Centralcooler',\n",
    "'Centralheat',\n",
    "'Pakage',\n",
    "'Cooler_gas',\n",
    "'Sewer_network',\n",
    "'Cookfuel',\n",
    "'Heatfuel',\n",
    "'Hotwaterfuel',\n",
    "'FoodExp',\n",
    "'ElectricityExp',\n",
    "'ElectricityOtherExp',\n",
    "'NaturalGasExp',\n",
    "'NaturalGasOtherExp',\n",
    "'OtherEnergyReExp',\n",
    "'year',\n",
    "'all_expenditure',\n",
    "'all_energy_EXP',\n",
    "'energy_Ratio']]"
   ]
  },
  {
   "cell_type": "code",
   "execution_count": 24,
   "id": "f3d5b816",
   "metadata": {},
   "outputs": [
    {
     "data": {
      "application/vnd.microsoft.datawrangler.viewer.v0+json": {
       "columns": [
        {
         "name": "index",
         "rawType": "object",
         "type": "string"
        },
        {
         "name": "0",
         "rawType": "int64",
         "type": "integer"
        }
       ],
       "ref": "a7423613-d4b7-419c-a46c-0517e740478e",
       "rows": [
        [
         "HHID",
         "0"
        ],
        [
         "region",
         "0"
        ],
        [
         "quarter",
         "0"
        ],
        [
         "weight",
         "0"
        ],
        [
         "county_code",
         "0"
        ],
        [
         "province_code",
         "0"
        ],
        [
         "HHsize",
         "0"
        ],
        [
         "NumChild_U5",
         "0"
        ],
        [
         "NumChild_B5_7",
         "0"
        ],
        [
         "NumChild_B7_18",
         "0"
        ],
        [
         "NumChildOver18",
         "0"
        ],
        [
         "HeadWoman",
         "0"
        ],
        [
         "NumEmployed",
         "0"
        ],
        [
         "NumOld",
         "0"
        ],
        [
         "NumMale",
         "0"
        ],
        [
         "Tenure",
         "7"
        ],
        [
         "Room",
         "16"
        ],
        [
         "Area",
         "7"
        ],
        [
         "Skeleton",
         "7"
        ],
        [
         "MainMaterial",
         "121300"
        ],
        [
         "PrivateVehicle",
         "0"
        ],
        [
         "Motorcycle",
         "0"
        ],
        [
         "Bike",
         "0"
        ],
        [
         "Radio",
         "0"
        ],
        [
         "Cassette",
         "0"
        ],
        [
         "TVbw",
         "0"
        ],
        [
         "TV",
         "0"
        ],
        [
         "VideoPlayer",
         "0"
        ],
        [
         "Computer",
         "0"
        ],
        [
         "Cellphone",
         "0"
        ],
        [
         "Freezer",
         "0"
        ],
        [
         "Refrigerator",
         "0"
        ],
        [
         "Freez_refrig",
         "0"
        ],
        [
         "Vacuum",
         "0"
        ],
        [
         "Washer",
         "0"
        ],
        [
         "Sewing",
         "0"
        ],
        [
         "Fan",
         "0"
        ],
        [
         "Cooler_water_portable",
         "0"
        ],
        [
         "Cooler_gas_portable",
         "0"
        ],
        [
         "Dishwasher",
         "0"
        ],
        [
         "None",
         "0"
        ],
        [
         "Pipewater",
         "0"
        ],
        [
         "Electricity",
         "0"
        ],
        [
         "Pipegas",
         "0"
        ],
        [
         "Phone",
         "0"
        ],
        [
         "Internet",
         "0"
        ],
        [
         "Bathroom",
         "0"
        ],
        [
         "Kitchen",
         "0"
        ],
        [
         "Cooler_water",
         "0"
        ],
        [
         "Centralcooler",
         "0"
        ]
       ],
       "shape": {
        "columns": 1,
        "rows": 67
       }
      },
      "text/plain": [
       "HHID                0\n",
       "region              0\n",
       "quarter             0\n",
       "weight              0\n",
       "county_code         0\n",
       "                   ..\n",
       "OtherEnergyReExp    0\n",
       "year                0\n",
       "all_expenditure     0\n",
       "all_energy_EXP      0\n",
       "energy_Ratio        0\n",
       "Length: 67, dtype: int64"
      ]
     },
     "execution_count": 24,
     "metadata": {},
     "output_type": "execute_result"
    }
   ],
   "source": [
    "data = data.loc[data[\"FoodExp\"]!= 0]\n",
    "data.isna().sum()"
   ]
  },
  {
   "cell_type": "code",
   "execution_count": 25,
   "id": "17758d27",
   "metadata": {},
   "outputs": [],
   "source": [
    "data[\"year\"] = np.where(\n",
    "    data[\"year\"] == 1403, 2024, np.where(\n",
    "        data[\"year\"] == 1402, 2023, np.where(\n",
    "            data[\"year\"] == 1401, 2022, np.where(\n",
    "                data[\"year\"] == 1400, 2021, np.where(\n",
    "                    data[\"year\"] == 99, 2020, np.where(\n",
    "                        data[\"year\"] == 98, 2019, np.where(\n",
    "                            data[\"year\"] == 97, 2018, np.where(\n",
    "                                data[\"year\"] == 96, 2017, np.where(\n",
    "                                    data[\"year\"] == 95, 2016, np.where(\n",
    "                                        data[\"year\"] == 94, 2015, np.where(\n",
    "                                            data[\"year\"] == 93, 2014, np.where(\n",
    "                                                data[\"year\"] == 92, 2013, np.where(\n",
    "                                                    data[\"year\"] == 91, 2012, np.where(\n",
    "                                                        data[\"year\"] == 90, 2011, np.where(\n",
    "                                                            data[\"year\"] == 89, 2010, pd.NA\n",
    "                                                        )\n",
    "                                                    )\n",
    "                                                )\n",
    "                                            )\n",
    "                                        )\n",
    "                                    )\n",
    "                                )\n",
    "                            )\n",
    "                        )\n",
    "                    )\n",
    "                )\n",
    "            )\n",
    "        )\n",
    "    )\n",
    ")"
   ]
  },
  {
   "cell_type": "code",
   "execution_count": 6,
   "id": "04336de2",
   "metadata": {},
   "outputs": [
    {
     "name": "stderr",
     "output_type": "stream",
     "text": [
      "C:\\Users\\Mahsa\\AppData\\Local\\Temp\\ipykernel_13884\\436222094.py:8: MatplotlibDeprecationWarning: The 'labels' parameter of boxplot() has been renamed 'tick_labels' since Matplotlib 3.9; support for the old name will be dropped in 3.11.\n",
      "  ax.boxplot(groups, labels=data[\"year\"].unique(), vert=False, flierprops=flierprops)\n"
     ]
    },
    {
     "data": {
      "image/png": "[encoded data removed]",
      "text/plain": [
       "<Figure size 1000x600 with 1 Axes>"
      ]
     },
     "metadata": {},
     "output_type": "display_data"
    }
   ],
   "source": [
    "# Group by year\n",
    "groups = [data.loc[data[\"year\"] == y, \"energy_Ratio\"] for y in data[\"year\"].unique()]\n",
    "\n",
    "fig, ax = plt.subplots(figsize=(10, 6))\n",
    "\n",
    "# Horizontal boxplot\n",
    "flierprops = dict(marker='o', markersize=2, linestyle='none')\n",
    "ax.boxplot(groups, labels=data[\"year\"].unique(), vert=False, flierprops=flierprops)\n",
    "\n",
    "# Labels with Times New Roman font\n",
    "ax.set_xlabel(\"Energy Ratio\", fontname=\"Times New Roman\", fontsize=12)\n",
    "ax.set_ylabel(\"Year\", fontname=\"Times New Roman\", fontsize=12)\n",
    "\n",
    "# Change tick labels font to Times New Roman\n",
    "for label in ax.get_xticklabels() + ax.get_yticklabels():\n",
    "    label.set_fontname(\"Times New Roman\")\n",
    "plt.xlim(0,)\n",
    "plt.show()\n"
   ]
  },
  {
   "cell_type": "code",
   "execution_count": 35,
   "id": "6f06529f",
   "metadata": {},
   "outputs": [
    {
     "data": {
      "image/png": "[encoded data removed]",
      "text/plain": [
       "<Figure size 600x300 with 1 Axes>"
      ]
     },
     "metadata": {},
     "output_type": "display_data"
    }
   ],
   "source": [
    "list_ofColumns = [\n",
    "    \"2010-2011\",\n",
    "    \"2011-2012\",\n",
    "    \"2012-2013\",\n",
    "    \"2013-2014\",\n",
    "    \"2014-2015\",\n",
    "    \"2015-2016\",\n",
    "    \"2016-2017\",\n",
    "    \"2017-2018\",\n",
    "    \"2018-2019\",\n",
    "    \"2019-2020\",\n",
    "    \"2020-2021\",\n",
    "    \"2021-2022\",\n",
    "    \"2022-2023\",\n",
    "    \"2023-2024\",\n",
    "    \"2024-2025\"\n",
    "]\n",
    "num_counties = [\n",
    "    397,397,421,429,429,429,429,429,434,448,457,469,474,482,484\n",
    "]\n",
    "\n",
    "plt.figure(figsize=(6, 3))\n",
    "plt.bar(list_ofColumns, num_counties)\n",
    "plt.ylim(350, 500)\n",
    "plt.xticks(fontsize=10, rotation = 45)\n",
    "plt.yticks(fontsize=10)\n",
    "plt.xlabel(\"Year\", fontsize = 10)\n",
    "plt.ylabel(\"The number of counties in Iran\", fontsize = 10)\n",
    "plt.show()"
   ]
  },
  {
   "cell_type": "code",
   "execution_count": 37,
   "id": "3808cf09",
   "metadata": {},
   "outputs": [],
   "source": [
    "import sklearn\n"
   ]
  }
 ],
 "metadata": {
  "kernelspec": {
   "display_name": "Python 3",
   "language": "python",
   "name": "python3"
  },
  "language_info": {
   "codemirror_mode": {
    "name": "ipython",
    "version": 3
   },
   "file_extension": ".py",
   "mimetype": "text/x-python",
   "name": "python",
   "nbconvert_exporter": "python",
   "pygments_lexer": "ipython3",
   "version": "3.13.7"
  }
 },
 "nbformat": 4,
 "nbformat_minor": 5
}
