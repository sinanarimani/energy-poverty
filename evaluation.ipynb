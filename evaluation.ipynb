{
 "cells": [
  {
   "cell_type": "code",
   "execution_count": 1,
   "id": "41f64f1a",
   "metadata": {},
   "outputs": [],
   "source": [
    "import numpy as np\n",
    "import pandas as pd\n",
    "import matplotlib.pyplot as plt\n",
    "plt.rcParams[\"font.family\"] = \"Times New Roman\""
   ]
  },
  {
   "cell_type": "code",
   "execution_count": 3,
   "id": "10882ed3",
   "metadata": {},
   "outputs": [
    {
     "name": "stdout",
     "output_type": "stream",
     "text": [
      "<class 'pandas.core.frame.DataFrame'>\n",
      "RangeIndex: 33 entries, 0 to 32\n",
      "Data columns (total 7 columns):\n",
      " #   Column              Non-Null Count  Dtype  \n",
      "---  ------              --------------  -----  \n",
      " 0   year                33 non-null     int64  \n",
      " 1   Oil products        33 non-null     int64  \n",
      " 2   Natural gas         33 non-null     int64  \n",
      " 3   Biofuels and waste  33 non-null     int64  \n",
      " 4   Electricity         33 non-null     int64  \n",
      " 5   Coal                30 non-null     float64\n",
      " 6   Units               33 non-null     object \n",
      "dtypes: float64(1), int64(5), object(1)\n",
      "memory usage: 1.9+ KB\n"
     ]
    }
   ],
   "source": [
    "data = pd.read_csv(r\"C:\\Users\\Mahsa\\Desktop\\base\\energy poverty\\Residential total final consumption (TFC) by source - Islamic Republic of Iran.csv\",\n",
    "                   skiprows=3)\n",
    "data.rename(columns={\n",
    "    \"Unnamed: 0\" : \"year\"\n",
    "}, inplace = True)\n",
    "data.info()"
   ]
  },
  {
   "cell_type": "code",
   "execution_count": 19,
   "id": "e044450c",
   "metadata": {},
   "outputs": [
    {
     "data": {
      "application/vnd.microsoft.datawrangler.viewer.v0+json": {
       "columns": [
        {
         "name": "index",
         "rawType": "int64",
         "type": "integer"
        },
        {
         "name": "year",
         "rawType": "int64",
         "type": "integer"
        },
        {
         "name": "Oil products",
         "rawType": "int64",
         "type": "integer"
        },
        {
         "name": "Natural gas",
         "rawType": "int64",
         "type": "integer"
        },
        {
         "name": "Biofuels and waste",
         "rawType": "int64",
         "type": "integer"
        },
        {
         "name": "Electricity",
         "rawType": "int64",
         "type": "integer"
        },
        {
         "name": "Coal",
         "rawType": "float64",
         "type": "float"
        },
        {
         "name": "Units",
         "rawType": "object",
         "type": "string"
        }
       ],
       "ref": "aa3d8ac3-3b91-4e6d-a613-9e524258bc50",
       "rows": [
        [
         "0",
         "1990",
         "350837",
         "109286",
         "3526",
         "62438",
         null,
         "TJ"
        ],
        [
         "1",
         "1991",
         "369349",
         "157915",
         "3777",
         "68860",
         null,
         "TJ"
        ],
        [
         "2",
         "1992",
         "425104",
         "245763",
         "4402",
         "70232",
         null,
         "TJ"
        ],
        [
         "3",
         "1993",
         "407478",
         "269018",
         "4928",
         "79714",
         "774.0",
         "TJ"
        ],
        [
         "4",
         "1994",
         "490043",
         "343683",
         "5500",
         "80902",
         "774.0",
         "TJ"
        ]
       ],
       "shape": {
        "columns": 7,
        "rows": 5
       }
      },
      "text/html": [
       "<div>\n",
       "<style scoped>\n",
       "    .dataframe tbody tr th:only-of-type {\n",
       "        vertical-align: middle;\n",
       "    }\n",
       "\n",
       "    .dataframe tbody tr th {\n",
       "        vertical-align: top;\n",
       "    }\n",
       "\n",
       "    .dataframe thead th {\n",
       "        text-align: right;\n",
       "    }\n",
       "</style>\n",
       "<table border=\"1\" class=\"dataframe\">\n",
       "  <thead>\n",
       "    <tr style=\"text-align: right;\">\n",
       "      <th></th>\n",
       "      <th>year</th>\n",
       "      <th>Oil products</th>\n",
       "      <th>Natural gas</th>\n",
       "      <th>Biofuels and waste</th>\n",
       "      <th>Electricity</th>\n",
       "      <th>Coal</th>\n",
       "      <th>Units</th>\n",
       "    </tr>\n",
       "  </thead>\n",
       "  <tbody>\n",
       "    <tr>\n",
       "      <th>0</th>\n",
       "      <td>1990</td>\n",
       "      <td>350837</td>\n",
       "      <td>109286</td>\n",
       "      <td>3526</td>\n",
       "      <td>62438</td>\n",
       "      <td>NaN</td>\n",
       "      <td>TJ</td>\n",
       "    </tr>\n",
       "    <tr>\n",
       "      <th>1</th>\n",
       "      <td>1991</td>\n",
       "      <td>369349</td>\n",
       "      <td>157915</td>\n",
       "      <td>3777</td>\n",
       "      <td>68860</td>\n",
       "      <td>NaN</td>\n",
       "      <td>TJ</td>\n",
       "    </tr>\n",
       "    <tr>\n",
       "      <th>2</th>\n",
       "      <td>1992</td>\n",
       "      <td>425104</td>\n",
       "      <td>245763</td>\n",
       "      <td>4402</td>\n",
       "      <td>70232</td>\n",
       "      <td>NaN</td>\n",
       "      <td>TJ</td>\n",
       "    </tr>\n",
       "    <tr>\n",
       "      <th>3</th>\n",
       "      <td>1993</td>\n",
       "      <td>407478</td>\n",
       "      <td>269018</td>\n",
       "      <td>4928</td>\n",
       "      <td>79714</td>\n",
       "      <td>774.0</td>\n",
       "      <td>TJ</td>\n",
       "    </tr>\n",
       "    <tr>\n",
       "      <th>4</th>\n",
       "      <td>1994</td>\n",
       "      <td>490043</td>\n",
       "      <td>343683</td>\n",
       "      <td>5500</td>\n",
       "      <td>80902</td>\n",
       "      <td>774.0</td>\n",
       "      <td>TJ</td>\n",
       "    </tr>\n",
       "  </tbody>\n",
       "</table>\n",
       "</div>"
      ],
      "text/plain": [
       "   year  Oil products  Natural gas  Biofuels and waste  Electricity   Coal  \\\n",
       "0  1990        350837       109286                3526        62438    NaN   \n",
       "1  1991        369349       157915                3777        68860    NaN   \n",
       "2  1992        425104       245763                4402        70232    NaN   \n",
       "3  1993        407478       269018                4928        79714  774.0   \n",
       "4  1994        490043       343683                5500        80902  774.0   \n",
       "\n",
       "  Units  \n",
       "0    TJ  \n",
       "1    TJ  \n",
       "2    TJ  \n",
       "3    TJ  \n",
       "4    TJ  "
      ]
     },
     "execution_count": 19,
     "metadata": {},
     "output_type": "execute_result"
    }
   ],
   "source": [
    "data.head()"
   ]
  },
  {
   "cell_type": "code",
   "execution_count": 20,
   "id": "a5685cef",
   "metadata": {},
   "outputs": [
    {
     "data": {
      "text/plain": [
       "Index(['year', 'Oil products', 'Natural gas', 'Biofuels and waste',\n",
       "       'Electricity', 'Coal', 'Units'],\n",
       "      dtype='object')"
      ]
     },
     "execution_count": 20,
     "metadata": {},
     "output_type": "execute_result"
    }
   ],
   "source": [
    "data.columns"
   ]
  },
  {
   "cell_type": "code",
   "execution_count": 4,
   "id": "cd0de11d",
   "metadata": {},
   "outputs": [],
   "source": [
    "data.dropna(inplace = True)"
   ]
  },
  {
   "cell_type": "code",
   "execution_count": 5,
   "id": "90fdec66",
   "metadata": {},
   "outputs": [],
   "source": [
    "cols = ['Oil products', 'Natural gas', 'Biofuels and waste', 'Electricity', 'Coal']\n",
    "\n",
    "# Calculate row totals for just these columns\n",
    "row_totals = data[cols].sum(axis=1)\n",
    "\n",
    "# Divide each column by the row total\n",
    "data[cols] = (data[cols].div(row_totals, axis=0))*100"
   ]
  },
  {
   "cell_type": "code",
   "execution_count": 23,
   "id": "499a2fcb",
   "metadata": {},
   "outputs": [
    {
     "data": {
      "application/vnd.microsoft.datawrangler.viewer.v0+json": {
       "columns": [
        {
         "name": "index",
         "rawType": "int64",
         "type": "integer"
        },
        {
         "name": "year",
         "rawType": "int64",
         "type": "integer"
        },
        {
         "name": "Oil products",
         "rawType": "float64",
         "type": "float"
        },
        {
         "name": "Natural gas",
         "rawType": "float64",
         "type": "float"
        },
        {
         "name": "Biofuels and waste",
         "rawType": "float64",
         "type": "float"
        },
        {
         "name": "Electricity",
         "rawType": "float64",
         "type": "float"
        },
        {
         "name": "Coal",
         "rawType": "float64",
         "type": "float"
        },
        {
         "name": "Units",
         "rawType": "object",
         "type": "string"
        }
       ],
       "ref": "a91eb1d3-203d-466a-9895-8412169865c0",
       "rows": [
        [
         "3",
         "1993",
         "53.480979430695406",
         "35.30827707136782",
         "0.6467938554583732",
         "10.462363107550479",
         "0.10158653492791819",
         "TJ"
        ],
        [
         "4",
         "1994",
         "53.21337123819907",
         "37.320257747295585",
         "0.5972405315657909",
         "8.785082451770112",
         "0.0840480311694404",
         "TJ"
        ],
        [
         "5",
         "1995",
         "50.41109579811971",
         "40.354146487306714",
         "0.5398000118772385",
         "8.61570785269767",
         "0.07924984999866894",
         "TJ"
        ],
        [
         "6",
         "1996",
         "47.381637624169585",
         "43.6658907626226",
         "0.5387239194385686",
         "8.339021472685829",
         "0.07472622108341435",
         "TJ"
        ],
        [
         "7",
         "1997",
         "44.751483797107674",
         "46.106713836606154",
         "0.42369619225916655",
         "8.648003383772924",
         "0.07010279025408185",
         "TJ"
        ]
       ],
       "shape": {
        "columns": 7,
        "rows": 5
       }
      },
      "text/html": [
       "<div>\n",
       "<style scoped>\n",
       "    .dataframe tbody tr th:only-of-type {\n",
       "        vertical-align: middle;\n",
       "    }\n",
       "\n",
       "    .dataframe tbody tr th {\n",
       "        vertical-align: top;\n",
       "    }\n",
       "\n",
       "    .dataframe thead th {\n",
       "        text-align: right;\n",
       "    }\n",
       "</style>\n",
       "<table border=\"1\" class=\"dataframe\">\n",
       "  <thead>\n",
       "    <tr style=\"text-align: right;\">\n",
       "      <th></th>\n",
       "      <th>year</th>\n",
       "      <th>Oil products</th>\n",
       "      <th>Natural gas</th>\n",
       "      <th>Biofuels and waste</th>\n",
       "      <th>Electricity</th>\n",
       "      <th>Coal</th>\n",
       "      <th>Units</th>\n",
       "    </tr>\n",
       "  </thead>\n",
       "  <tbody>\n",
       "    <tr>\n",
       "      <th>3</th>\n",
       "      <td>1993</td>\n",
       "      <td>53.480979</td>\n",
       "      <td>35.308277</td>\n",
       "      <td>0.646794</td>\n",
       "      <td>10.462363</td>\n",
       "      <td>0.101587</td>\n",
       "      <td>TJ</td>\n",
       "    </tr>\n",
       "    <tr>\n",
       "      <th>4</th>\n",
       "      <td>1994</td>\n",
       "      <td>53.213371</td>\n",
       "      <td>37.320258</td>\n",
       "      <td>0.597241</td>\n",
       "      <td>8.785082</td>\n",
       "      <td>0.084048</td>\n",
       "      <td>TJ</td>\n",
       "    </tr>\n",
       "    <tr>\n",
       "      <th>5</th>\n",
       "      <td>1995</td>\n",
       "      <td>50.411096</td>\n",
       "      <td>40.354146</td>\n",
       "      <td>0.539800</td>\n",
       "      <td>8.615708</td>\n",
       "      <td>0.079250</td>\n",
       "      <td>TJ</td>\n",
       "    </tr>\n",
       "    <tr>\n",
       "      <th>6</th>\n",
       "      <td>1996</td>\n",
       "      <td>47.381638</td>\n",
       "      <td>43.665891</td>\n",
       "      <td>0.538724</td>\n",
       "      <td>8.339021</td>\n",
       "      <td>0.074726</td>\n",
       "      <td>TJ</td>\n",
       "    </tr>\n",
       "    <tr>\n",
       "      <th>7</th>\n",
       "      <td>1997</td>\n",
       "      <td>44.751484</td>\n",
       "      <td>46.106714</td>\n",
       "      <td>0.423696</td>\n",
       "      <td>8.648003</td>\n",
       "      <td>0.070103</td>\n",
       "      <td>TJ</td>\n",
       "    </tr>\n",
       "  </tbody>\n",
       "</table>\n",
       "</div>"
      ],
      "text/plain": [
       "   year  Oil products  Natural gas  Biofuels and waste  Electricity      Coal  \\\n",
       "3  1993     53.480979    35.308277            0.646794    10.462363  0.101587   \n",
       "4  1994     53.213371    37.320258            0.597241     8.785082  0.084048   \n",
       "5  1995     50.411096    40.354146            0.539800     8.615708  0.079250   \n",
       "6  1996     47.381638    43.665891            0.538724     8.339021  0.074726   \n",
       "7  1997     44.751484    46.106714            0.423696     8.648003  0.070103   \n",
       "\n",
       "  Units  \n",
       "3    TJ  \n",
       "4    TJ  \n",
       "5    TJ  \n",
       "6    TJ  \n",
       "7    TJ  "
      ]
     },
     "execution_count": 23,
     "metadata": {},
     "output_type": "execute_result"
    }
   ],
   "source": [
    "data.head()"
   ]
  },
  {
   "cell_type": "code",
   "execution_count": 6,
   "id": "ecbe6613",
   "metadata": {},
   "outputs": [
    {
     "data": {
      "image/png": "[encoded data removed]",
      "text/plain": [
       "<Figure size 500x500 with 1 Axes>"
      ]
     },
     "metadata": {},
     "output_type": "display_data"
    }
   ],
   "source": [
    "import matplotlib.pyplot as plt\n",
    "\n",
    "fig, ax = plt.subplots(figsize=(5, 5))\n",
    "\n",
    "ax.stackplot(data[\"year\"], data[cols].T, labels=cols)\n",
    "\n",
    "ax.legend(loc='upper left')\n",
    "plt.show()"
   ]
  },
  {
   "cell_type": "code",
   "execution_count": 33,
   "id": "607b8eed",
   "metadata": {},
   "outputs": [
    {
     "data": {
      "application/vnd.microsoft.datawrangler.viewer.v0+json": {
       "columns": [
        {
         "name": "index",
         "rawType": "int64",
         "type": "integer"
        },
        {
         "name": "year",
         "rawType": "int64",
         "type": "integer"
        },
        {
         "name": "Oil products",
         "rawType": "float64",
         "type": "float"
        },
        {
         "name": "Natural gas",
         "rawType": "float64",
         "type": "float"
        },
        {
         "name": "Biofuels and waste",
         "rawType": "float64",
         "type": "float"
        },
        {
         "name": "Electricity",
         "rawType": "float64",
         "type": "float"
        },
        {
         "name": "Coal",
         "rawType": "float64",
         "type": "float"
        },
        {
         "name": "Units",
         "rawType": "object",
         "type": "string"
        }
       ],
       "ref": "a2639d86-5799-4813-be16-9599377a419d",
       "rows": [
        [
         "32",
         "2022",
         "5.5522533212589265",
         "80.49985691680355",
         "0.40398014049372166",
         "13.53063120655549",
         "0.013278414888303152",
         "TJ"
        ]
       ],
       "shape": {
        "columns": 7,
        "rows": 1
       }
      },
      "text/html": [
       "<div>\n",
       "<style scoped>\n",
       "    .dataframe tbody tr th:only-of-type {\n",
       "        vertical-align: middle;\n",
       "    }\n",
       "\n",
       "    .dataframe tbody tr th {\n",
       "        vertical-align: top;\n",
       "    }\n",
       "\n",
       "    .dataframe thead th {\n",
       "        text-align: right;\n",
       "    }\n",
       "</style>\n",
       "<table border=\"1\" class=\"dataframe\">\n",
       "  <thead>\n",
       "    <tr style=\"text-align: right;\">\n",
       "      <th></th>\n",
       "      <th>year</th>\n",
       "      <th>Oil products</th>\n",
       "      <th>Natural gas</th>\n",
       "      <th>Biofuels and waste</th>\n",
       "      <th>Electricity</th>\n",
       "      <th>Coal</th>\n",
       "      <th>Units</th>\n",
       "    </tr>\n",
       "  </thead>\n",
       "  <tbody>\n",
       "    <tr>\n",
       "      <th>32</th>\n",
       "      <td>2022</td>\n",
       "      <td>5.552253</td>\n",
       "      <td>80.499857</td>\n",
       "      <td>0.40398</td>\n",
       "      <td>13.530631</td>\n",
       "      <td>0.013278</td>\n",
       "      <td>TJ</td>\n",
       "    </tr>\n",
       "  </tbody>\n",
       "</table>\n",
       "</div>"
      ],
      "text/plain": [
       "    year  Oil products  Natural gas  Biofuels and waste  Electricity  \\\n",
       "32  2022      5.552253    80.499857             0.40398    13.530631   \n",
       "\n",
       "        Coal Units  \n",
       "32  0.013278    TJ  "
      ]
     },
     "execution_count": 33,
     "metadata": {},
     "output_type": "execute_result"
    }
   ],
   "source": [
    "data.loc[data[\"year\"]==2022]"
   ]
  },
  {
   "cell_type": "markdown",
   "id": "89efdfc6",
   "metadata": {},
   "source": [
    "# Working on HIES"
   ]
  },
  {
   "cell_type": "code",
   "execution_count": 14,
   "id": "365e1af3",
   "metadata": {},
   "outputs": [
    {
     "name": "stdout",
     "output_type": "stream",
     "text": [
      "<class 'pandas.core.frame.DataFrame'>\n",
      "Index: 582542 entries, 0 to 582542\n",
      "Columns: 113 entries, HHID to energy_Ratio\n",
      "dtypes: float64(98), object(15)\n",
      "memory usage: 506.7+ MB\n"
     ]
    }
   ],
   "source": [
    "data = pd.read_pickle(\"merged\")\n",
    "data.info()"
   ]
  },
  {
   "cell_type": "code",
   "execution_count": 15,
   "id": "99885f94",
   "metadata": {},
   "outputs": [],
   "source": [
    "iran_provinces = {\n",
    "    \"آذربایجان شرقی\": \"East Azerbaijan\",\n",
    "    \"آذربایجان غربی\": \"West Azerbaijan\",\n",
    "    \"اردبیل\": \"Ardabil\",\n",
    "    \"اصفهان\": \"Esfahan\",\n",
    "    \"البرز\": \"Alborz\",\n",
    "    \"ایلام\": \"Ilam\",\n",
    "    \"بوشهر\": \"Bushehr\",\n",
    "    \"تهران\": \"Tehran\",\n",
    "    \"خراسان جنوبی\": \"South Khorasan\",\n",
    "    \"خراسان رضوی\": \"Razavi Khorasan\",\n",
    "    \"خراسان شمالی\": \"North Khorasan\",\n",
    "    \"خوزستان\": \"Khuzestan\",\n",
    "    \"زنجان\": \"Zanjan\",\n",
    "    \"سمنان\": \"Semnan\",\n",
    "    \"سیستان و بلوچستان\": \"Sistan and Baluchestan\",\n",
    "    \"فارس\": \"Fars\",\n",
    "    \"قزوین\": \"Qazvin\",\n",
    "    \"قم\": \"Qom\",\n",
    "    \"كردستان\": \"Kurdistan\",\n",
    "    \"كرمان\": \"Kerman\",\n",
    "    \"كهگیلویه و بویراحمد\": \"Kohgiluyeh and Boyer-Ahmad\",\n",
    "    \"لرستان\": \"Lorestan\",\n",
    "    \"مازندران\": \"Mazandaran\",\n",
    "    \"مرکزی\": \"Markazi\",\n",
    "    \"هرمزگان\": \"Hormozgan\",\n",
    "    \"همدان\": \"Hamadan\",\n",
    "    \"چهارمحال و بختیاری\": \"Chaharmahal and Bakhtiari\",\n",
    "    \"کرمانشاه\": \"Kermanshah\",\n",
    "    \"گلستان\": \"Golestan\",\n",
    "    \"گیلان\": \"Gilan\",\n",
    "    \"یزد\": \"Yazd\"\n",
    "}\n",
    "data[\"province\"] = data[\"province\"].map(iran_provinces)"
   ]
  },
  {
   "cell_type": "code",
   "execution_count": 18,
   "id": "4735c4fa",
   "metadata": {},
   "outputs": [],
   "source": [
    "def weighted_describe(values, weights):\n",
    "    values = np.asarray(values)\n",
    "    weights = np.asarray(weights)\n",
    "\n",
    "    # Drop NaNs\n",
    "    mask = ~np.isnan(values)\n",
    "    values = values[mask]\n",
    "    weights = weights[mask]\n",
    "\n",
    "    # Weighted count\n",
    "    count = weights.sum()\n",
    "\n",
    "    # Weighted mean\n",
    "    mean = np.average(values, weights=weights)\n",
    "\n",
    "    # Weighted variance and std\n",
    "    variance = np.average((values - mean) ** 2, weights=weights)\n",
    "    std = np.sqrt(variance)\n",
    "\n",
    "    # Weighted min and max\n",
    "    min_val = values.min()\n",
    "    max_val = values.max()\n",
    "\n",
    "    # Weighted percentiles\n",
    "    def weighted_percentile(data, weights, percent):\n",
    "        \"\"\"Compute weighted percentile (percent between 0-100).\"\"\"\n",
    "        sorter = np.argsort(data)\n",
    "        data, weights = data[sorter], weights[sorter]\n",
    "        cdf = np.cumsum(weights) / weights.sum()\n",
    "        return np.interp(percent / 100, cdf, data)\n",
    "\n",
    "    q25 = weighted_percentile(values, weights, 25)\n",
    "    q50 = weighted_percentile(values, weights, 50)  # median\n",
    "    q75 = weighted_percentile(values, weights, 75)\n",
    "\n",
    "    return pd.Series({\n",
    "        \"count\": count,\n",
    "        \"mean\": mean,\n",
    "        \"std\": std,\n",
    "        \"min\": min_val,\n",
    "        \"25%\": q25,\n",
    "        \"50%\": q50,\n",
    "        \"75%\": q75,\n",
    "        \"max\": max_val\n",
    "    })\n"
   ]
  },
  {
   "cell_type": "code",
   "execution_count": 22,
   "id": "344423bd",
   "metadata": {},
   "outputs": [
    {
     "name": "stderr",
     "output_type": "stream",
     "text": [
      "C:\\Users\\Mahsa\\AppData\\Local\\Temp\\ipykernel_12548\\1825656094.py:2: SettingWithCopyWarning: \n",
      "A value is trying to be set on a copy of a slice from a DataFrame.\n",
      "Try using .loc[row_indexer,col_indexer] = value instead\n",
      "\n",
      "See the caveats in the documentation: https://pandas.pydata.org/pandas-docs/stable/user_guide/indexing.html#returning-a-view-versus-a-copy\n",
      "  df[\"HouseExpRatio\"] = 100*((df[\"RentExp\"]+df[\"EstRentExp\"])/df[\"all_expenditure\"])\n"
     ]
    },
    {
     "data": {
      "application/vnd.microsoft.datawrangler.viewer.v0+json": {
       "columns": [
        {
         "name": "index",
         "rawType": "object",
         "type": "string"
        },
        {
         "name": "0",
         "rawType": "float64",
         "type": "float"
        }
       ],
       "ref": "b264ed41-bece-4a6a-bd72-e1963614c228",
       "rows": [
        [
         "count",
         "3353775.601768052"
        ],
        [
         "mean",
         "31.9407345940449"
        ],
        [
         "std",
         "12.302340843815912"
        ],
        [
         "min",
         "1.000031905779851"
        ],
        [
         "25%",
         "23.930642776769943"
        ],
        [
         "50%",
         "30.710630256258412"
        ],
        [
         "75%",
         "39.83276907695443"
        ],
        [
         "max",
         "100.0"
        ]
       ],
       "shape": {
        "columns": 1,
        "rows": 8
       }
      },
      "text/plain": [
       "count    3.353776e+06\n",
       "mean     3.194073e+01\n",
       "std      1.230234e+01\n",
       "min      1.000032e+00\n",
       "25%      2.393064e+01\n",
       "50%      3.071063e+01\n",
       "75%      3.983277e+01\n",
       "max      1.000000e+02\n",
       "dtype: float64"
      ]
     },
     "execution_count": 22,
     "metadata": {},
     "output_type": "execute_result"
    }
   ],
   "source": [
    "df = data.loc[(data[\"Tenure\"]==\"Rented\")&(data[\"year\"]==1402)&(data[\"region\"]==\"Urban\")]\n",
    "df[\"HouseExpRatio\"] = 100*((df[\"RentExp\"]+df[\"EstRentExp\"])/df[\"all_expenditure\"])\n",
    "weighted_describe(df[\"HouseExpRatio\"], weights= df[\"weight\"])"
   ]
  },
  {
   "cell_type": "code",
   "execution_count": 4,
   "id": "496e1095",
   "metadata": {},
   "outputs": [
    {
     "data": {
      "application/vnd.microsoft.datawrangler.viewer.v0+json": {
       "columns": [
        {
         "name": "index",
         "rawType": "object",
         "type": "string"
        },
        {
         "name": "0",
         "rawType": "int64",
         "type": "integer"
        }
       ],
       "ref": "25dc0657-8738-479b-bb5e-85d9daf24ff3",
       "rows": [
        [
         "HHID",
         "0"
        ],
        [
         "region",
         "0"
        ],
        [
         "quarter",
         "0"
        ],
        [
         "weight",
         "4356"
        ],
        [
         "county_code",
         "1865"
        ],
        [
         "province_code",
         "0"
        ],
        [
         "HHsize",
         "4356"
        ],
        [
         "AveAge",
         "10429"
        ],
        [
         "NumChild_U5",
         "10429"
        ],
        [
         "NumChild_B5_7",
         "10429"
        ],
        [
         "NumChild_B7_18",
         "10429"
        ],
        [
         "NumChildOver18",
         "10429"
        ],
        [
         "HeadWoman",
         "4356"
        ],
        [
         "Num_Literate",
         "4356"
        ],
        [
         "NumEmployed",
         "4356"
        ],
        [
         "NumOld",
         "10429"
        ],
        [
         "NumMale",
         "4356"
        ],
        [
         "Tenure",
         "4363"
        ],
        [
         "Room",
         "2489"
        ],
        [
         "Area",
         "2480"
        ],
        [
         "Skeleton",
         "4363"
        ],
        [
         "MainMaterial",
         "127955"
        ],
        [
         "PrivateVehicle",
         "1699"
        ],
        [
         "Motorcycle",
         "1699"
        ],
        [
         "Bike",
         "1699"
        ],
        [
         "Radio",
         "1699"
        ],
        [
         "Cassette",
         "1699"
        ],
        [
         "TVbw",
         "1699"
        ],
        [
         "TV",
         "1699"
        ],
        [
         "VideoPlayer",
         "1699"
        ],
        [
         "Computer",
         "1699"
        ],
        [
         "Cellphone",
         "1699"
        ],
        [
         "Freezer",
         "1699"
        ],
        [
         "Refrigerator",
         "1699"
        ],
        [
         "Freez_refrig",
         "1699"
        ],
        [
         "Vacuum",
         "1699"
        ],
        [
         "Washer",
         "1699"
        ],
        [
         "Sewing",
         "1699"
        ],
        [
         "Fan",
         "1699"
        ],
        [
         "Cooler_water_portable",
         "1699"
        ],
        [
         "Cooler_gas_portable",
         "1699"
        ],
        [
         "Dishwasher",
         "1699"
        ],
        [
         "None",
         "1699"
        ],
        [
         "Pipewater",
         "1699"
        ],
        [
         "Electricity",
         "1699"
        ],
        [
         "Pipegas",
         "1699"
        ],
        [
         "Phone",
         "1699"
        ],
        [
         "Internet",
         "1699"
        ],
        [
         "Bathroom",
         "1699"
        ],
        [
         "Kitchen",
         "1699"
        ]
       ],
       "shape": {
        "columns": 1,
        "rows": 69
       }
      },
      "text/plain": [
       "HHID                    0\n",
       "region                  0\n",
       "quarter                 0\n",
       "weight               4356\n",
       "county_code          1865\n",
       "                    ...  \n",
       "OtherEnergyReExp        0\n",
       "year                    0\n",
       "all_expenditure         0\n",
       "all_energy_EXP          0\n",
       "energy_Ratio        10780\n",
       "Length: 69, dtype: int64"
      ]
     },
     "execution_count": 4,
     "metadata": {},
     "output_type": "execute_result"
    }
   ],
   "source": [
    "data.isna().sum()"
   ]
  },
  {
   "cell_type": "code",
   "execution_count": 16,
   "id": "f3d5b816",
   "metadata": {},
   "outputs": [
    {
     "data": {
      "application/vnd.microsoft.datawrangler.viewer.v0+json": {
       "columns": [
        {
         "name": "index",
         "rawType": "object",
         "type": "string"
        },
        {
         "name": "0",
         "rawType": "int64",
         "type": "integer"
        }
       ],
       "ref": "babad6d5-4770-4a50-ac7e-5e50dc3e4775",
       "rows": [
        [
         "HHID",
         "0"
        ],
        [
         "month",
         "150712"
        ],
        [
         "household_type",
         "0"
        ],
        [
         "region",
         "0"
        ],
        [
         "quarter",
         "0"
        ],
        [
         "weight",
         "0"
        ],
        [
         "county_code",
         "0"
        ],
        [
         "province_code",
         "0"
        ],
        [
         "province",
         "0"
        ],
        [
         "HHsize",
         "0"
        ],
        [
         "AveAge",
         "0"
        ],
        [
         "NumChild_U5",
         "0"
        ],
        [
         "NumChild_B5_7",
         "0"
        ],
        [
         "NumChild_B7_18",
         "0"
        ],
        [
         "NumChildOver18",
         "0"
        ],
        [
         "HeadWoman",
         "0"
        ],
        [
         "Dep_Student",
         "0"
        ],
        [
         "Num_Literate",
         "0"
        ],
        [
         "NumSpouse",
         "0"
        ],
        [
         "NumEmployed",
         "0"
        ],
        [
         "NumOld",
         "0"
        ],
        [
         "NumMale",
         "0"
        ],
        [
         "NumNotfirstR",
         "0"
        ],
        [
         "Tenure",
         "7"
        ],
        [
         "Room",
         "16"
        ],
        [
         "Area",
         "7"
        ],
        [
         "Skeleton",
         "7"
        ],
        [
         "MainMaterial",
         "121300"
        ],
        [
         "PrivateVehicle",
         "0"
        ],
        [
         "Motorcycle",
         "0"
        ],
        [
         "Bike",
         "0"
        ],
        [
         "Radio",
         "0"
        ],
        [
         "Cassette",
         "0"
        ],
        [
         "TVbw",
         "0"
        ],
        [
         "TV",
         "0"
        ],
        [
         "VideoPlayer",
         "0"
        ],
        [
         "Computer",
         "0"
        ],
        [
         "Cellphone",
         "0"
        ],
        [
         "Freezer",
         "0"
        ],
        [
         "Refrigerator",
         "0"
        ],
        [
         "Freez_refrig",
         "0"
        ],
        [
         "Vacuum",
         "0"
        ],
        [
         "Washer",
         "0"
        ],
        [
         "Sewing",
         "0"
        ],
        [
         "Fan",
         "0"
        ],
        [
         "Cooler_water_portable",
         "0"
        ],
        [
         "Cooler_gas_portable",
         "0"
        ],
        [
         "Dishwasher",
         "0"
        ],
        [
         "None",
         "0"
        ],
        [
         "Pipewater",
         "0"
        ]
       ],
       "shape": {
        "columns": 1,
        "rows": 113
       }
      },
      "text/plain": [
       "HHID                    0\n",
       "month              150712\n",
       "household_type          0\n",
       "region                  0\n",
       "quarter                 0\n",
       "                    ...  \n",
       "OtherExtraSale          0\n",
       "year                    0\n",
       "all_expenditure         0\n",
       "all_energy_EXP          0\n",
       "energy_Ratio            0\n",
       "Length: 113, dtype: int64"
      ]
     },
     "execution_count": 16,
     "metadata": {},
     "output_type": "execute_result"
    }
   ],
   "source": [
    "data = data.loc[data[\"FoodExp\"]!= 0]\n",
    "data.isna().sum()"
   ]
  },
  {
   "cell_type": "code",
   "execution_count": 17,
   "id": "17758d27",
   "metadata": {},
   "outputs": [],
   "source": [
    "data[\"year\"] = np.where(\n",
    "    data[\"year\"] == 1403, 2024, np.where(\n",
    "        data[\"year\"] == 1402, 2023, np.where(\n",
    "            data[\"year\"] == 1401, 2022, np.where(\n",
    "                data[\"year\"] == 1400, 2021, np.where(\n",
    "                    data[\"year\"] == 99, 2020, np.where(\n",
    "                        data[\"year\"] == 98, 2019, np.where(\n",
    "                            data[\"year\"] == 97, 2018, np.where(\n",
    "                                data[\"year\"] == 96, 2017, np.where(\n",
    "                                    data[\"year\"] == 95, 2016, np.where(\n",
    "                                        data[\"year\"] == 94, 2015, np.where(\n",
    "                                            data[\"year\"] == 93, 2014, np.where(\n",
    "                                                data[\"year\"] == 92, 2013, np.where(\n",
    "                                                    data[\"year\"] == 91, 2012, np.where(\n",
    "                                                        data[\"year\"] == 90, 2011, np.where(\n",
    "                                                            data[\"year\"] == 89, 2010, pd.NA\n",
    "                                                        )\n",
    "                                                    )\n",
    "                                                )\n",
    "                                            )\n",
    "                                        )\n",
    "                                    )\n",
    "                                )\n",
    "                            )\n",
    "                        )\n",
    "                    )\n",
    "                )\n",
    "            )\n",
    "        )\n",
    "    )\n",
    ")"
   ]
  },
  {
   "cell_type": "code",
   "execution_count": 6,
   "id": "04336de2",
   "metadata": {},
   "outputs": [
    {
     "name": "stderr",
     "output_type": "stream",
     "text": [
      "C:\\Users\\Mahsa\\AppData\\Local\\Temp\\ipykernel_13884\\436222094.py:8: MatplotlibDeprecationWarning: The 'labels' parameter of boxplot() has been renamed 'tick_labels' since Matplotlib 3.9; support for the old name will be dropped in 3.11.\n",
      "  ax.boxplot(groups, labels=data[\"year\"].unique(), vert=False, flierprops=flierprops)\n"
     ]
    },
    {
     "data": {
      "image/png": "[encoded data removed]",
      "text/plain": [
       "<Figure size 1000x600 with 1 Axes>"
      ]
     },
     "metadata": {},
     "output_type": "display_data"
    }
   ],
   "source": [
    "# Group by year\n",
    "groups = [data.loc[data[\"year\"] == y, \"energy_Ratio\"] for y in data[\"year\"].unique()]\n",
    "\n",
    "fig, ax = plt.subplots(figsize=(10, 6))\n",
    "\n",
    "# Horizontal boxplot\n",
    "flierprops = dict(marker='o', markersize=2, linestyle='none')\n",
    "ax.boxplot(groups, labels=data[\"year\"].unique(), vert=False, flierprops=flierprops)\n",
    "\n",
    "# Labels with Times New Roman font\n",
    "ax.set_xlabel(\"Energy Ratio\", fontname=\"Times New Roman\", fontsize=12)\n",
    "ax.set_ylabel(\"Year\", fontname=\"Times New Roman\", fontsize=12)\n",
    "\n",
    "# Change tick labels font to Times New Roman\n",
    "for label in ax.get_xticklabels() + ax.get_yticklabels():\n",
    "    label.set_fontname(\"Times New Roman\")\n",
    "plt.xlim(0,)\n",
    "plt.show()\n"
   ]
  },
  {
   "cell_type": "code",
   "execution_count": 35,
   "id": "6f06529f",
   "metadata": {},
   "outputs": [
    {
     "data": {
      "image/png": "[encoded data removed]",
      "text/plain": [
       "<Figure size 600x300 with 1 Axes>"
      ]
     },
     "metadata": {},
     "output_type": "display_data"
    }
   ],
   "source": [
    "list_ofColumns = [\n",
    "    \"2010-2011\",\n",
    "    \"2011-2012\",\n",
    "    \"2012-2013\",\n",
    "    \"2013-2014\",\n",
    "    \"2014-2015\",\n",
    "    \"2015-2016\",\n",
    "    \"2016-2017\",\n",
    "    \"2017-2018\",\n",
    "    \"2018-2019\",\n",
    "    \"2019-2020\",\n",
    "    \"2020-2021\",\n",
    "    \"2021-2022\",\n",
    "    \"2022-2023\",\n",
    "    \"2023-2024\",\n",
    "    \"2024-2025\"\n",
    "]\n",
    "num_counties = [\n",
    "    397,397,421,429,429,429,429,429,434,448,457,469,474,482,484\n",
    "]\n",
    "\n",
    "plt.figure(figsize=(6, 3))\n",
    "plt.bar(list_ofColumns, num_counties)\n",
    "plt.ylim(350, 500)\n",
    "plt.xticks(fontsize=10, rotation = 45)\n",
    "plt.yticks(fontsize=10)\n",
    "plt.xlabel(\"Year\", fontsize = 10)\n",
    "plt.ylabel(\"The number of counties in Iran\", fontsize = 10)\n",
    "plt.show()"
   ]
  },
  {
   "cell_type": "code",
   "execution_count": 13,
   "id": "c8cf40ee",
   "metadata": {},
   "outputs": [
    {
     "name": "stdout",
     "output_type": "stream",
     "text": [
      "the name of the col is HHID\n",
      "['2000025066' '2000077193' '2000149068' ... '12707337550' '12713343553'\n",
      " '12105246550']\n",
      "the name of the col is region\n",
      "['Rural' 'Urban']\n",
      "the name of the col is quarter\n",
      "['spring' 'Summer' 'Fall' 'Winter']\n",
      "the name of the col is weight\n",
      "[  153.79051396   153.97073722   140.69929671 ... 13999.\n",
      " 19426.         12648.        ]\n",
      "the name of the col is county_code\n",
      "['0001' '0006' '0010' '0005' '0007' '0011' '0004' '0009' '0003' '0002'\n",
      " '0101' '0105' '0103' '0104' '0111' '0107' '0106' '0112' '0114' '0102'\n",
      " '0116' '0108' '0109' '0115' '0110' '0113' '0221' '0214' '0207' '0201'\n",
      " '0218' '0219' '0202' '0205' '0220' '0210' '0215' '0216' '0204' '0208'\n",
      " '0206' '0222' '0307' '0313' '0316' '0311' '0325' '0305' '0302' '0310'\n",
      " '0320' '0312' '0303' '0324' '0314' '0322' '0306' '0315' '0323' '0321'\n",
      " '0319' '0402' '0412' '0413' '0401' '0407' '0411' '0406' '0403' '0410'\n",
      " '0414' '0408' '0405' '0404' '0409' '0504' '0505' '0514' '0502' '0512'\n",
      " '0501' '0511' '0508' '0509' '0503' '0510' '0513' '0507' '0506' '0601'\n",
      " '0611' '0605' '0615' '0603' '0606' '0616' '0608' '0604' '0614' '0618'\n",
      " '0610' '0619' '0620' '0607' '0612' '0613' '0609' '0602' '0617' '0712'\n",
      " '0710' '0707' '0704' '0715' '0719' '0713' '0705' '0711' '0701' '0723'\n",
      " '0716' '0720' '0714' '0706' '0709' '0702' '0708' '0718' '0703' '0721'\n",
      " '0722' '0717' '0724' '0807' '0802' '0803' '0806' '0808' '0810' '0816'\n",
      " '0812' '0804' '0809' '0813' '0814' '0815' '0801' '0805' '0811' '0908'\n",
      " '0915' '0905' '0906' '0913' '0917' '0916' '0920' '0922' '0919' '0927'\n",
      " '0904' '0928' '0918' '0914' '0923' '0930' '0907' '0929' '1002' '1008'\n",
      " '1012' '1018' '1010' '1003' '1006' '1019' '1007' '1005' '1015' '1020'\n",
      " '1014' '1017' '1001' '1016' '1013' '1004' '1011' '1009' '1021' '1110'\n",
      " '1104' '1106' '1101' '1107' '1103' '1109' '1105' '1102' '1108' '1207'\n",
      " '1209' '1202' '1206' '1204' '1205' '1203' '1201' '1208' '1303' '1308'\n",
      " '1301' '1306' '1302' '1305' '1304' '1307' '1404' '1402' '1403' '1401'\n",
      " '1405' '1406' '1506' '1508' '1502' '1505' '1503' '1504' '1507' '1501'\n",
      " '1509' '1607' '1601' '1604' '1606' '1603' '1605' '1602' '1702' '1701'\n",
      " '1703' '1705' '1704' '1801' '1809' '1802' '1803' '1804' '1805' '1806'\n",
      " '1808' '1807' '1904' '1907' '1908' '1901' '1909' '1903' '1906' '2003'\n",
      " '2001' '2004' '2002' '2105' '2103' '2107' '2110' '2101' '2106' '2104'\n",
      " '2109' '2108' '2102' '2202' '2210' '2203' '2206' '2207' '2204' '2201'\n",
      " '2205' '2211' '2208' '2209' '2309' '2306' '2313' '2303' '3002' '2314'\n",
      " '2301' '2304' '2312' '3001' '2302' '2310' '3003' '2403' '2401' '2405'\n",
      " '2408' '2406' '2404' '2402' '2407' '2409' '2501' '2601' '2602' '2603'\n",
      " '2605' '2604' '2709' '2706' '2711' '2703' '2708' '2707' '2705' '2701'\n",
      " '2704' '2702' '2710' '2806' '2805' '2802' '2801' '2804' '2803' '2906'\n",
      " '2903' '2904' '2901' '2905' '2902' '2907' '2911' '0013' '0012' '0224'\n",
      " '0225' '0223' '0326' '0416' '0417' '0415' '0623' '0624' '0621' '0622'\n",
      " '0725' '0728' '0726' '0729' '0727' '0822' '0823' '0818' '0821' '0817'\n",
      " '0819' '0820' '0931' '0935' '0936' '0937' '1022' '1023' '1113' '1114'\n",
      " '1112' '1111' '1210' '1309' '1407' '1510' '1608' '1707' '1706' '2005'\n",
      " '2111' '2212' '2213' '2318' '2317' '2319' '2410' '2712' '2714' '2713'\n",
      " '2807' '2908' '3004' '0934' '0932' '0938' '0933' '2316' '2909' '0226'\n",
      " '0227' '0228' '0625' '0627' '0939' '1024' '1115' '1116' '1117' '1118'\n",
      " '1119' '1408' '1409' '1511' '1609' '1610' '1708' '1810' '1910' '2006'\n",
      " '2007' '2008' '2320' '2321' '2606' '2808' '2910' '3005' '3006']\n",
      "the name of the col is province_code\n",
      "['00' '01' '02' '03' '04' '05' '06' '07' '08' '09' '10' '11' '12' '13'\n",
      " '14' '15' '16' '17' '18' '19' '20' '21' '22' '23' '30' '24' '25' '26'\n",
      " '27' '28' '29']\n",
      "the name of the col is HHsize\n",
      "[ 7.  6.  3.  5.  2.  4.  8.  1. 10. 11. 13.  9. 16. 18. 12. 14. 17. 15.\n",
      " 19. 20.]\n",
      "the name of the col is AveAge\n",
      "[39.28571429 30.83333333 22.66666667 ... 47.14285714 27.46153846\n",
      " 61.2       ]\n",
      "the name of the col is NumChild_U5\n",
      "[0. 1. 2. 3. 4. 5.]\n",
      "the name of the col is NumChild_B5_7\n",
      "[0. 1. 2. 3. 5.]\n",
      "the name of the col is NumChild_B7_18\n",
      "[0. 1. 2. 3. 5. 4. 6. 7. 8. 9.]\n",
      "the name of the col is NumChildOver18\n",
      "[ 5.  3.  0.  1.  2.  4.  7.  6.  9. 10. 11.  8. 12.]\n",
      "the name of the col is HeadWoman\n",
      "[0. 1.]\n",
      "the name of the col is Num_Literate\n",
      "[ 5.  3.  1.  2.  4.  6.  7.  0.  9. 11.  8. 10. 13. 14. 12. 16.]\n",
      "the name of the col is NumEmployed\n",
      "[ 3.  1.  0.  6.  2.  5.  4. 12.  7. 10.  9.  8.]\n",
      "the name of the col is NumOld\n",
      "[1. 0. 2. 3. 4.]\n",
      "the name of the col is NumMale\n",
      "[ 2.  3.  4.  1.  5.  0.  6.  8.  7.  9. 10. 11. 16.]\n",
      "the name of the col is Tenure\n",
      "['Owner of land and building' 'Free of charge' 'In exchange for service'\n",
      " 'Rented' 'Other' 'Mortgaged' 'Owner of building only' None]\n",
      "the name of the col is Room\n",
      "[ 4.  5.  3.  2.  1.  6.  8.  7. 10.  9. nan 15. 11. 13. 14. 12.  0.]\n",
      "the name of the col is Area\n",
      "[110.  90. 120. 145. 100.  85. 130. 150. 160.  80.  70.  20.  36.  35.\n",
      "  40.  30.  60.  50. 140. 185. 170. 180. 138.  12.  65.  27.  24. 200.\n",
      "  88.  45. 250.  38.  25.  19.  18.  32.  84.  52.  55. 115.  86.  26.\n",
      "  48.  75.  22. 300.  62. 155.  58. 122.  68.  95.  28.  72.   9. 220.\n",
      "  10.  64.  17. 190. 380. 340. 400.  15. 125. 175. 124. 127. 105. 102.\n",
      "  91. 230.  93. 176.  42.  78.  98.  16.  83.  56.  67.  94.  54.  57.\n",
      " 112.  81.  74.  43.  21.  63. 118.  82.  87.   6.  44.  99.  71.  77.\n",
      " 123. 128. 106.  92. 113. 103.  96.  89. 148.  73. 136.  49.  46. 135.\n",
      " 165. 132. 104.  66. 240.  76. 101. 288. 152. 137. 146. 108.  14.  97.\n",
      " 270. 178.  37. 144. 228. 114.  34.  31. 280.  39. 210. 126.  33. 151.\n",
      " 260. 121. 172.  59.  23. 187. 153. 157. 320. 134. 107. 275. 109.  51.\n",
      " 370. 147. 214. 500. 234. 212. 232. 217.  61.  41.  69.  53.  47.  79.\n",
      " 188. 143. 168. 350. 154. 204. 156. 215. 117. 116. 111. 195. 198. 290.\n",
      " 265. 196. 360. 159. 225. 133. 182. 169. 236. 131. 224. 205. 129. 142.\n",
      " 161. 158. 333. 330. 208. 219. 163. 183. 164. 184. 173. 315. 186. 149.\n",
      " 177. 207. 263. 162. 365. 171. 139.   4.   8.   3.   5.   7. 520. 239.\n",
      " 119. 216. 199. 310. 281. 700. 229. 450. 192. 401. 660. 221. 285. 213.\n",
      " 319. 440. 167. 550. 197. 255. 245. 174. 238. 600. 235. 194. 480. 141.\n",
      "  13. 218. 990. 202. 276. 227. 211. 266. 390. 503. 294. 249. 189. 283.\n",
      "  29. 420. 277. 498. 336. 800. 640. 254. 203. 317. 327. 206. 179. 191.\n",
      " 710. 247. 166. 580. 193. 397. 410. 233. 430. 362. 237. 226. 402. 345.\n",
      " 264. 248. 292. 181. 489. 284. 302. 252. 289. 256. 470. 382. 375. 307.\n",
      "  11. 364. 209. 258. 296. 282. 274. 231. 242. 278. 326. 269. 222. 358.\n",
      " 369. 460. 259. 286. 261. 540.  nan 312. 361. 372. 335. 650. 201. 305.\n",
      " 295. 262. 328.]\n",
      "the name of the col is Skeleton\n",
      "['Other' 'Metal' 'concrete' None]\n",
      "the name of the col is MainMaterial\n",
      "['Clay and Wood' 'Brick or Iron' 'Brick and Wood' None 'Clay and Straw'\n",
      " 'All Brick or Stone and Brick' 'Other' 'All Wood' 'Concrete Block']\n",
      "the name of the col is PrivateVehicle\n",
      "[0. 1.]\n",
      "the name of the col is Motorcycle\n",
      "[1. 0.]\n",
      "the name of the col is Bike\n",
      "[0. 1.]\n",
      "the name of the col is Radio\n",
      "[1. 0.]\n",
      "the name of the col is Cassette\n",
      "[0. 1.]\n",
      "the name of the col is TVbw\n",
      "[0. 1.]\n",
      "the name of the col is TV\n",
      "[1. 0.]\n",
      "the name of the col is VideoPlayer\n",
      "[0. 1.]\n",
      "the name of the col is Computer\n",
      "[0. 1.]\n",
      "the name of the col is Cellphone\n",
      "[0. 1.]\n",
      "the name of the col is Freezer\n",
      "[0. 1.]\n",
      "the name of the col is Refrigerator\n",
      "[1. 0.]\n",
      "the name of the col is Freez_refrig\n",
      "[0. 1.]\n",
      "the name of the col is Vacuum\n",
      "[0. 1.]\n",
      "the name of the col is Washer\n",
      "[1. 0.]\n",
      "the name of the col is Sewing\n",
      "[1. 0.]\n",
      "the name of the col is Fan\n",
      "[1. 0.]\n",
      "the name of the col is Cooler_water_portable\n",
      "[0. 1.]\n",
      "the name of the col is Cooler_gas_portable\n",
      "[0. 1.]\n",
      "the name of the col is Dishwasher\n",
      "[0. 1.]\n",
      "the name of the col is None\n",
      "[0. 1.]\n",
      "the name of the col is Pipewater\n",
      "[1. 0.]\n",
      "the name of the col is Electricity\n",
      "[2. 0. 1.]\n",
      "the name of the col is Pipegas\n",
      "[3. 0. 1.]\n",
      "the name of the col is Phone\n",
      "[4. 0. 1.]\n",
      "the name of the col is Internet\n",
      "[0. 5. 1.]\n",
      "the name of the col is Bathroom\n",
      "[6. 0. 1.]\n",
      "the name of the col is Kitchen\n",
      "[7. 0. 1.]\n",
      "the name of the col is Cooler_water\n",
      "[0. 8. 1.]\n",
      "the name of the col is Centralcooler\n",
      "[0. 9. 1.]\n",
      "the name of the col is Centralheat\n",
      "[ 0. 10.  1.]\n",
      "the name of the col is Pakage\n",
      "[ 0. 11.  1.]\n",
      "the name of the col is Cooler_gas\n",
      "[ 0. 12.  1.]\n",
      "the name of the col is Sewer_network\n",
      "[ 0. 13.  1.]\n",
      "the name of the col is Cookfuel\n",
      "['Natural gas' 'LPG' 'White oil' 'Firewood and charcoal' 'Electricity'\n",
      " 'Animal fuel' 'None' 'Diesel' 'Other fuels']\n",
      "the name of the col is Heatfuel\n",
      "['Natural gas' 'White oil' 'Firewood and charcoal' 'LPG' 'Electricity'\n",
      " 'Animal fuel' 'Diesel' 'Other fuels' 'None']\n",
      "the name of the col is Hotwaterfuel\n",
      "['Natural gas' 'LPG' 'Electricity' 'None' 'White oil'\n",
      " 'Firewood and charcoal' 'Diesel' 'Animal fuel' 'Other fuels']\n",
      "the name of the col is FoodExp\n",
      "[1.592992e+06 5.639700e+05 1.087999e+06 ... 1.471073e+08 6.088500e+07\n",
      " 6.696000e+07]\n",
      "the name of the col is ElectricityExp\n",
      "[  22000.  120000.       0. ...  595500.  931114. 7480000.]\n",
      "the name of the col is ElectricityOtherExp\n",
      "[0.000e+00 9.000e+04 3.500e+05 3.500e+04 4.500e+04 2.500e+04 3.000e+04\n",
      " 8.000e+05 1.500e+05 1.800e+05 1.200e+05 2.300e+05 6.400e+04 2.600e+04\n",
      " 2.000e+04 4.250e+04 7.000e+04 8.000e+04 4.000e+04 5.000e+04 1.300e+05\n",
      " 5.370e+05 1.400e+04 1.100e+05 3.200e+04 3.700e+04 1.000e+06 6.000e+05\n",
      " 3.100e+05 1.400e+05 8.200e+04 4.600e+04 4.300e+04 3.800e+04 1.250e+05\n",
      " 6.500e+04 4.200e+04 1.700e+05 2.700e+05 9.400e+04 2.700e+04 1.000e+05\n",
      " 7.200e+04 2.200e+04 4.000e+03 1.500e+04 2.400e+04 2.300e+04 1.050e+05\n",
      " 7.000e+05 3.600e+05 3.000e+05 1.600e+05 1.350e+05 6.000e+04 2.000e+05\n",
      " 4.100e+05 4.000e+05 1.120e+05 2.400e+05 4.500e+05 2.100e+05 2.130e+05\n",
      " 9.500e+04 6.200e+04 9.100e+04 1.150e+05 8.500e+04 7.350e+04 2.200e+05\n",
      " 5.500e+05 6.100e+04 1.800e+06 1.360e+05 1.340e+05 1.380e+05 5.800e+04\n",
      " 4.800e+05 2.800e+05 1.450e+05 2.430e+05 5.000e+05 2.000e+06 1.020e+06\n",
      " 1.110e+05 4.300e+05 3.900e+05 7.300e+05 5.600e+05 1.850e+05 6.000e+06\n",
      " 5.100e+04 1.540e+05 2.450e+05 2.500e+05 1.920e+05 1.100e+06 2.680e+05\n",
      " 8.600e+04 1.500e+06 8.500e+05 7.800e+05 1.200e+06 2.600e+05 3.700e+05\n",
      " 6.700e+05 2.030e+05 3.150e+05 4.600e+05 3.200e+05 1.620e+05 7.500e+05\n",
      " 9.000e+06 7.600e+04 5.500e+06 2.800e+06 1.130e+05 9.800e+04 2.050e+05\n",
      " 1.780e+05 7.200e+05 1.930e+05 3.400e+05 3.250e+05 9.300e+05 3.550e+05\n",
      " 1.190e+05 1.400e+06 5.650e+05 1.520e+05 1.700e+06 1.500e+07 4.350e+05\n",
      " 1.900e+05 2.310e+05 8.700e+04 4.690e+05 8.900e+04 1.140e+05 2.240e+05\n",
      " 1.480e+05 2.673e+05 3.720e+05 2.772e+05 2.970e+05 1.850e+06 9.000e+05\n",
      " 1.919e+05 1.818e+05 1.950e+06 1.300e+06 1.900e+06 3.850e+05 9.820e+05\n",
      " 1.950e+05 5.300e+05 5.000e+06 8.000e+06 7.400e+05 7.680e+05 3.950e+05\n",
      " 4.900e+05 3.480e+05 3.300e+05 2.540e+05 6.300e+05 4.200e+05 5.200e+05\n",
      " 2.150e+05 2.550e+06 2.950e+07 2.500e+06 8.500e+06 9.400e+05 1.000e+07\n",
      " 8.400e+05 2.850e+05 1.400e+07 7.000e+06 2.300e+06 9.350e+06 2.000e+07\n",
      " 1.980e+06 4.900e+06 3.800e+05 4.700e+06 1.300e+07 6.400e+06 9.800e+05\n",
      " 4.500e+06 7.800e+06 1.380e+07 1.800e+07 5.700e+06 5.400e+05 3.500e+06\n",
      " 6.500e+05 1.200e+07 7.780e+06 4.650e+05 6.500e+06 2.850e+06 2.870e+06\n",
      " 3.000e+07 6.800e+06 1.700e+07 5.600e+06 2.700e+07 2.500e+07 8.300e+05\n",
      " 5.900e+05 1.250e+06 2.100e+06 7.280e+06 5.800e+05 1.600e+06 4.000e+06\n",
      " 1.100e+07 2.900e+06 3.000e+06 9.500e+05]\n",
      "the name of the col is NaturalGasExp\n",
      "[ 120000.  200000.   40000. ...  515400. 4980000. 4970000.]\n",
      "the name of the col is NaturalGasOtherExp\n",
      "[0.000e+00 2.000e+05 1.800e+05 8.000e+04 8.200e+04 1.500e+04 3.200e+04\n",
      " 6.800e+04 7.500e+04 3.000e+04 1.800e+04 5.200e+04 1.400e+05 1.700e+04\n",
      " 1.200e+04 1.300e+04 1.100e+04 5.000e+04 1.500e+05 7.000e+05 4.000e+04\n",
      " 3.600e+04 1.000e+05 1.600e+04 1.000e+04 7.000e+04 1.900e+04 4.500e+04\n",
      " 1.240e+06 3.000e+05 2.000e+06 1.750e+05 9.000e+04 8.500e+04 1.600e+05\n",
      " 5.500e+04 3.000e+06 1.000e+06 8.000e+05 3.500e+04 1.200e+05 1.050e+05\n",
      " 5.300e+04 7.400e+04 5.000e+05 3.600e+05 6.000e+04 2.100e+05 6.000e+05\n",
      " 4.400e+04 1.300e+05 2.500e+04 1.600e+06 2.500e+05 3.500e+06 4.600e+04\n",
      " 6.500e+04 1.950e+05 5.200e+05 1.500e+06 7.500e+05 4.000e+05 5.400e+04\n",
      " 2.400e+05 1.300e+06 1.470e+06 3.200e+05 7.000e+06 6.500e+05 1.500e+07\n",
      " 1.700e+05 8.900e+06 6.600e+05 3.750e+05 1.460e+05 1.100e+06 3.500e+05\n",
      " 1.100e+05 1.800e+06 2.800e+05 1.400e+06 5.500e+05 2.772e+06 4.500e+06\n",
      " 2.250e+05 1.820e+06 2.200e+06 4.800e+05 4.000e+06 3.300e+05 6.700e+06\n",
      " 2.200e+05 5.000e+06 3.400e+05 4.500e+05 5.300e+05 1.250e+05 4.200e+05\n",
      " 5.100e+05 2.600e+05 1.350e+06 2.700e+06 1.700e+06 4.180e+06 3.200e+06\n",
      " 8.400e+05 1.200e+06 1.050e+06 1.100e+07 6.700e+05]\n",
      "the name of the col is OtherEnergyReExp\n",
      "[0.0000e+00 1.0000e+06 3.0000e+05 4.8000e+04 1.2000e+04 4.0000e+04\n",
      " 5.0000e+04 3.5000e+05 1.2100e+05 2.5000e+05 1.2000e+05 7.0000e+04\n",
      " 3.0000e+04 6.0000e+04 6.3000e+05 1.8000e+05 6.5000e+03 2.6000e+04\n",
      " 8.0000e+03 1.0000e+04 2.0000e+04 4.9400e+04 9.0000e+03 1.6000e+05\n",
      " 8.0000e+04 4.5000e+04 5.5000e+04 2.1500e+05 1.0000e+05 4.0000e+03\n",
      " 4.0000e+05 1.7500e+05 2.5000e+04 6.5000e+04 2.0000e+05 1.5000e+05\n",
      " 4.2000e+04 1.4000e+05 4.8000e+05 2.4000e+05 4.4000e+05 7.0000e+05\n",
      " 2.2000e+06 2.5000e+06 6.9000e+05 2.2000e+05 4.6000e+05 9.0000e+04\n",
      " 3.4000e+05 1.2000e+06 6.0000e+05 1.3500e+06 7.5000e+05 1.6000e+06\n",
      " 5.0000e+05 5.1000e+05 2.5300e+05 6.6000e+05 3.2000e+05 2.3000e+05\n",
      " 1.0300e+06 6.3000e+04 2.7000e+05 9.6000e+05 2.5200e+05 1.1000e+05\n",
      " 1.4600e+05 1.3000e+05 4.6000e+04 6.5000e+05 2.8000e+05 1.8500e+05\n",
      " 1.7000e+05 5.0000e+03 2.1000e+05 4.2000e+05 2.9000e+05 3.3000e+05\n",
      " 5.5000e+05 5.3000e+05 1.2200e+06 2.6000e+05 5.6000e+05 1.1500e+06\n",
      " 1.0200e+06 1.2500e+06 7.5000e+04 2.2500e+05 1.9000e+05 2.8000e+04\n",
      " 6.4800e+05 1.0500e+05 1.6000e+04 7.2000e+05 1.2500e+05 5.6000e+04\n",
      " 9.7000e+05 1.1700e+06 6.7000e+05 3.8000e+05 4.3000e+05 3.2800e+05\n",
      " 4.5000e+05 1.9680e+05 3.7000e+05 3.4500e+05 3.6000e+05 2.0720e+05\n",
      " 8.0000e+05 3.7500e+05 1.4200e+06 1.8700e+06 1.4000e+06 1.2550e+06\n",
      " 2.4200e+05 1.9550e+06 1.1200e+06 4.3100e+05 5.9200e+05 9.2600e+05\n",
      " 1.6500e+06 1.1000e+06 3.0000e+06 8.4000e+05 3.2500e+05 2.1000e+06\n",
      " 2.7500e+06 7.6000e+05 1.5000e+06 1.3500e+05 9.5000e+04 1.6500e+05\n",
      " 9.8000e+04 4.9500e+05 9.0000e+05 3.1000e+05 8.4600e+05 8.4000e+04\n",
      " 1.7100e+05 9.4000e+04 6.4000e+05 1.5500e+05 5.2000e+04 3.8500e+05\n",
      " 2.7500e+05 4.9000e+05 1.8000e+06 4.7500e+04 1.2600e+05 9.1000e+05\n",
      " 1.7600e+06 1.9600e+06 1.4800e+05 5.2000e+05 6.8000e+05 1.0500e+06\n",
      " 5.7000e+05 1.0400e+06 3.5000e+06 1.3000e+06 4.7000e+05 8.8000e+05\n",
      " 8.9000e+05 4.3000e+04 1.2700e+05 1.0800e+05 3.7600e+04 3.7500e+04\n",
      " 5.4000e+05 9.2000e+04 8.8000e+04 6.2000e+04 2.3100e+05 2.0500e+05\n",
      " 9.2000e+05 1.9500e+05 4.6500e+06 7.3200e+04 6.7500e+05 7.7000e+05\n",
      " 1.5000e+04 1.7800e+05 5.4000e+04 4.4000e+04 9.3000e+04 1.1100e+05\n",
      " 2.4000e+04 6.2500e+04 6.2000e+05 5.5000e+03 6.0000e+03 2.3500e+05\n",
      " 2.4500e+05 2.4700e+05 8.6000e+04 2.4800e+05 2.7000e+04 3.5000e+04\n",
      " 5.3000e+04 1.4500e+05 3.5300e+05 4.2500e+05 1.7000e+06 6.1000e+05\n",
      " 5.9000e+05 1.0500e+04 3.8500e+04 3.4000e+04 2.0400e+04 7.0000e+03\n",
      " 3.6000e+04 1.4000e+04 9.6000e+04 1.7500e+04 3.7000e+04 2.1100e+05\n",
      " 2.8500e+05 8.5000e+04 2.2000e+04 8.3000e+05 5.8000e+05 8.1000e+04\n",
      " 3.1500e+06 1.2100e+06 2.0600e+05 7.1500e+05 1.6480e+05 4.8500e+05\n",
      " 1.0700e+06 1.8000e+04 7.4000e+04 2.0050e+05 2.8800e+05 4.0300e+06\n",
      " 8.2000e+04 1.1500e+05 1.3700e+05 3.3500e+05 3.1500e+05 3.9000e+05\n",
      " 7.8000e+05 8.2200e+05 9.8000e+05 8.7000e+05 5.2500e+04 1.8750e+05\n",
      " 6.9000e+04 2.0000e+06 3.0500e+05 7.2000e+04 2.3800e+05 1.4400e+05\n",
      " 2.4400e+05 1.9400e+05 2.9400e+05 3.4800e+05 4.4800e+05 3.3800e+05\n",
      " 6.4000e+04 5.7500e+05 2.1400e+05 4.1000e+04 2.5500e+05 2.9500e+05\n",
      " 1.7500e+06 8.5000e+05 2.6500e+05 8.2500e+05 4.7500e+05 4.8800e+05\n",
      " 6.6000e+04 3.6500e+05 4.0500e+05 2.2500e+06 1.2700e+06 1.5600e+06\n",
      " 2.2800e+05 5.8000e+04 5.6500e+05 3.8000e+04 7.3500e+05 7.3000e+05\n",
      " 1.6400e+05 5.7500e+04 5.9000e+04 1.8700e+05 3.2000e+04 4.7000e+04\n",
      " 6.2000e+06 4.6500e+04 3.0000e+03 9.9000e+04 1.0450e+05 7.4000e+05\n",
      " 6.4500e+05 1.8400e+06 1.8500e+04 1.5900e+05 1.7700e+06 1.3750e+05\n",
      " 1.2400e+06 1.1200e+05 6.8000e+04 1.1700e+05 2.3000e+04 1.4500e+06\n",
      " 2.1000e+04 8.5000e+03 1.2200e+05 1.0200e+05 1.1250e+05 4.1000e+05\n",
      " 1.1600e+05 1.1000e+04 1.0600e+06 2.2160e+06 1.3200e+05 2.5700e+06\n",
      " 1.5500e+06 3.7000e+06 2.3000e+06 4.0000e+06 1.3800e+06 1.1600e+06\n",
      " 1.1400e+06 3.9200e+05 1.2800e+06 1.0740e+06 5.8100e+05 1.6800e+06\n",
      " 6.6200e+05 2.6400e+05 3.8100e+05 5.2500e+05 7.7500e+05 8.7500e+05\n",
      " 1.6400e+06 2.0200e+06 1.4700e+06 2.0500e+06 2.1500e+06 3.2500e+06\n",
      " 3.5500e+06 2.5750e+06 2.7700e+06 3.6500e+06 1.6600e+06 2.5500e+06\n",
      " 1.8500e+06 1.9500e+06 2.7000e+06 5.0000e+06 3.2000e+06 3.8000e+06\n",
      " 1.1250e+06 2.8000e+06 4.5500e+05 4.4500e+05 4.4200e+05 8.1800e+05\n",
      " 2.6400e+06 3.2850e+05 8.2000e+05 1.4100e+06 1.2600e+06 8.0500e+05\n",
      " 1.6100e+06 2.6500e+06 2.5600e+06 7.3000e+06 5.3000e+06 9.0000e+06\n",
      " 2.1800e+06 2.7200e+06 4.4000e+06 1.3200e+06 1.9200e+06 9.5000e+05\n",
      " 6.6600e+05 2.3200e+06 1.4600e+06 1.5200e+06 8.6000e+05 1.5100e+06\n",
      " 3.3300e+05 1.0800e+06 2.4000e+06 2.2200e+05 1.4400e+06 1.5400e+06\n",
      " 3.3400e+05 8.1000e+05 7.9500e+05 1.1750e+05 2.7800e+05 1.2400e+05\n",
      " 2.2100e+05 2.3600e+05 2.5800e+05 2.6800e+05 3.1200e+05 5.3600e+05\n",
      " 2.5400e+05 3.7400e+05 1.3960e+06 5.1000e+04 6.1100e+05 3.9500e+05\n",
      " 3.6000e+06 3.3000e+06 7.8000e+04 2.6100e+06 4.2000e+06 2.4750e+06\n",
      " 6.8400e+05 3.7500e+06 7.0500e+05 1.4850e+06 9.4000e+05 1.0100e+06\n",
      " 1.8200e+06 1.6800e+05 2.4200e+06 8.9000e+04 6.6000e+06 1.8200e+05\n",
      " 1.2350e+06 1.6200e+05 7.2500e+05 1.8900e+06 1.1750e+06 2.4500e+06\n",
      " 1.9300e+06 1.6550e+06 2.0250e+06 1.2300e+06 1.3600e+06 5.5000e+06\n",
      " 3.8400e+06 1.0850e+06 1.0750e+06 1.0700e+05 3.1000e+04 1.2500e+04\n",
      " 2.1300e+06 1.0350e+06 5.6700e+05 1.5800e+05 1.1800e+05 3.8700e+05\n",
      " 3.5500e+05 6.2800e+05 1.5700e+06 2.1250e+05 3.8300e+05 9.2700e+05\n",
      " 2.7300e+05 2.0600e+06 5.2800e+05 4.5600e+05 4.5000e+06 5.3500e+05\n",
      " 1.0450e+06 2.5400e+06 4.6500e+05 5.7000e+04 2.9300e+05 6.2500e+05\n",
      " 1.7000e+04 3.0800e+06 7.0000e+06 3.1000e+06 1.5130e+06 1.0250e+06\n",
      " 6.3500e+05 6.5000e+06 2.2800e+06 4.1250e+05 1.9000e+06 4.1500e+06\n",
      " 5.7400e+05 5.2400e+05 2.4400e+06 2.8500e+06 2.3500e+06 6.0000e+06\n",
      " 1.3700e+06 3.0200e+06 3.4000e+06 2.3100e+06 2.6000e+06 1.3300e+06\n",
      " 2.5300e+06 2.0700e+06 1.1800e+06 8.4500e+05 3.5500e+04 4.3500e+05\n",
      " 1.2900e+06 1.4200e+05 1.6200e+06 1.3800e+05 1.7600e+05 1.3000e+04\n",
      " 2.7250e+06 1.2050e+06 3.0500e+06 2.5200e+06 2.0300e+06 1.3380e+06\n",
      " 1.0400e+05 1.9950e+06 7.5000e+06 1.8800e+06 1.9700e+05 4.1500e+05\n",
      " 6.9500e+05 3.2700e+05 5.2700e+05 5.1800e+05 2.6600e+06 2.9000e+06\n",
      " 2.2400e+06 4.6000e+06 1.5800e+06 1.5200e+05 2.3600e+06 9.7000e+04\n",
      " 9.1000e+04 6.0500e+05 9.3000e+05 3.2700e+06 1.7400e+06 5.0500e+05\n",
      " 1.7150e+06 1.7200e+06 1.4800e+06 1.8600e+06 2.2000e+07 1.1150e+06\n",
      " 1.1300e+06 1.3400e+06 7.3000e+04 7.9000e+05 3.5250e+06 1.0540e+06\n",
      " 2.1900e+06 1.9800e+05 3.5200e+05 7.2600e+05 2.9700e+05 4.5200e+05\n",
      " 1.5600e+05 1.1400e+05 6.5600e+05 3.6400e+05 3.0200e+05 7.1000e+05\n",
      " 9.9000e+05 2.6250e+06 4.4700e+05 2.0800e+06 6.8000e+06 1.0050e+05\n",
      " 9.3500e+05 9.6500e+05 1.2800e+05 2.1550e+06 4.7000e+06 1.0000e+07\n",
      " 5.6000e+06 3.3200e+06 1.1100e+06 1.1820e+06 6.5200e+05 9.8600e+05\n",
      " 8.0200e+05 3.4500e+06 2.9500e+06 7.4200e+05 1.8680e+06 7.6500e+05\n",
      " 5.2500e+06 4.0800e+06 1.9800e+06 3.3700e+06 4.3200e+05 2.1600e+05\n",
      " 1.9200e+05 6.1200e+05 4.1100e+06 4.9000e+06 5.1600e+05 4.8000e+06\n",
      " 5.4000e+06 1.0650e+06 3.6200e+05 4.8300e+05 1.1900e+06 3.5800e+06\n",
      " 3.5200e+06 1.7200e+05 5.1500e+05 6.7000e+04 3.5600e+05 3.7800e+06\n",
      " 3.9000e+06 1.9700e+06 6.6500e+05 1.6700e+06 1.9900e+06 8.8500e+05\n",
      " 1.6220e+06 4.5500e+06 3.1300e+06 1.2000e+07 3.7600e+06 3.5400e+06\n",
      " 3.5000e+07 3.0400e+06 3.7200e+06 2.8750e+06 1.5750e+06 2.8300e+06\n",
      " 8.7800e+05 1.2750e+06 1.0550e+06 9.2500e+05 3.1800e+06 1.5300e+06\n",
      " 1.5900e+06 6.4000e+06 7.6000e+06 2.3400e+06 9.7500e+05 3.8500e+06\n",
      " 1.8000e+07 5.3500e+06 4.3000e+06 1.3100e+06 1.2250e+06 4.5600e+06\n",
      " 1.3760e+06 3.4600e+06 6.1300e+05 5.2000e+06 4.7200e+06 7.8500e+05\n",
      " 2.2500e+04 3.3200e+05 2.1450e+06 3.3600e+06 3.9600e+04 2.4750e+04\n",
      " 4.9500e+04 1.2870e+05 1.4850e+05 5.9400e+04 3.3660e+05 1.9800e+04\n",
      " 1.7820e+05 2.9700e+04 7.9200e+04 1.0890e+05 3.4650e+04 8.9100e+05\n",
      " 1.1880e+05 2.3760e+05 1.5840e+05 7.4250e+04 6.9300e+04 1.3860e+05\n",
      " 4.4550e+04 7.4250e+05 5.9400e+05 3.9600e+05 2.7720e+05 2.2770e+05\n",
      " 2.4750e+05 1.5000e+07 6.8200e+05 1.7300e+06 2.7400e+06 2.8750e+05\n",
      " 5.3200e+05 1.5250e+05 2.4600e+06 1.1950e+06 1.5928e+06 2.7600e+06\n",
      " 8.0000e+06 3.4400e+05 7.7000e+06 2.4800e+06 1.1520e+06 1.3640e+06\n",
      " 1.0560e+06 2.0000e+07 2.8200e+06 1.0200e+07 1.7000e+07 3.4800e+06\n",
      " 6.3000e+06 2.5650e+06 8.5000e+06 1.0800e+07 1.1500e+07 2.5000e+07\n",
      " 2.8400e+06 1.0500e+07 3.1200e+06 1.1200e+07 2.3000e+07 1.4000e+07\n",
      " 3.0000e+07 3.5400e+05 1.6000e+07 9.5000e+06 1.0600e+07 5.7000e+06]\n",
      "the name of the col is year\n",
      "[2010 2011 2012 2013 2014 2015 2016 2017 2018 2019 2020 2021 2022 2023\n",
      " 2024]\n",
      "the name of the col is all_expenditure\n",
      "[2.08555167e+06 7.16222233e+06 3.05601267e+06 ... 5.87163333e+07\n",
      " 1.75853333e+08 1.96580000e+08]\n",
      "the name of the col is all_energy_EXP\n",
      "[  142000.   320000.    40000. ... 11460000. 14600000.  2983000.]\n",
      "the name of the col is energy_Ratio\n",
      "[6.80875004 4.46788699 1.3088951  ... 3.06558652 1.53537038 0.813918  ]\n"
     ]
    }
   ],
   "source": [
    "for col in data.columns:\n",
    "    print(f\"the name of the col is {col}\")\n",
    "    print(data[col].unique())"
   ]
  },
  {
   "cell_type": "code",
   "execution_count": 18,
   "id": "9dd95c68",
   "metadata": {},
   "outputs": [
    {
     "name": "stdout",
     "output_type": "stream",
     "text": [
      "[1 0]\n",
      "[1 0]\n",
      "[1 0]\n",
      "[0 1]\n",
      "[1 0]\n",
      "[1 0]\n",
      "[0 1]\n",
      "[0 1]\n",
      "[0 1]\n",
      "[0 1]\n",
      "[0 1]\n",
      "[0 1]\n"
     ]
    }
   ],
   "source": [
    "cols = [\n",
    "    'Electricity',\n",
    "    'Pipegas',\n",
    "    'Phone',\n",
    "    'Internet',\n",
    "    'Bathroom',\n",
    "    'Kitchen',\n",
    "    'Cooler_water',\n",
    "    'Centralcooler',\n",
    "    'Centralheat',\n",
    "    'Pakage',\n",
    "    'Cooler_gas',\n",
    "    'Sewer_network'\n",
    "]\n",
    "for col in cols:\n",
    "    data[col] = np.where(data[col]==0,0,1)\n",
    "    print(data[col].unique())"
   ]
  },
  {
   "cell_type": "code",
   "execution_count": 19,
   "id": "9f81a35b",
   "metadata": {},
   "outputs": [
    {
     "name": "stdout",
     "output_type": "stream",
     "text": [
      "Cookfuel\n",
      "Animal fuel                  10\n",
      "Diesel                      147\n",
      "Electricity                 149\n",
      "Firewood and charcoal       602\n",
      "LPG                      131859\n",
      "Natural gas              436304\n",
      "None                         58\n",
      "Other fuels                   3\n",
      "White oil                  1197\n",
      "dtype: int64\n",
      "Heatfuel\n",
      "Animal fuel                 125\n",
      "Diesel                      536\n",
      "Electricity               23496\n",
      "Firewood and charcoal      2889\n",
      "LPG                        5825\n",
      "Natural gas              434383\n",
      "None                      10671\n",
      "Other fuels                  33\n",
      "White oil                 92371\n",
      "dtype: int64\n",
      "Hotwaterfuel\n",
      "Animal fuel                 188\n",
      "Diesel                      832\n",
      "Electricity               47447\n",
      "Firewood and charcoal      3961\n",
      "LPG                       48823\n",
      "Natural gas              433557\n",
      "None                       5330\n",
      "Other fuels                 157\n",
      "White oil                 30034\n",
      "dtype: int64\n"
     ]
    }
   ],
   "source": [
    "cols = [\n",
    "'Cookfuel',\n",
    "'Heatfuel',\n",
    "'Hotwaterfuel',\n",
    "]\n",
    "for col in cols:\n",
    "    df = data.groupby(col).size()\n",
    "    print(df)"
   ]
  },
  {
   "cell_type": "code",
   "execution_count": 20,
   "id": "d99e223e",
   "metadata": {},
   "outputs": [],
   "source": [
    "cols = [\n",
    "'PrivateVehicle',\n",
    "'Motorcycle',\n",
    "'Bike',\n",
    "'Radio',\n",
    "'Cassette',\n",
    "'TVbw',\n",
    "'TV',\n",
    "'VideoPlayer',\n",
    "'Computer',\n",
    "'Cellphone',\n",
    "'Freezer',\n",
    "'Refrigerator',\n",
    "'Freez_refrig',\n",
    "'Vacuum',\n",
    "'Washer',\n",
    "'Sewing',\n",
    "'Fan',\n",
    "'Cooler_water_portable',\n",
    "'Cooler_gas_portable',\n",
    "'Dishwasher',\n",
    "'None',\n",
    "'Pipewater',\n",
    "'Electricity',\n",
    "'Pipegas',\n",
    "'Phone',\n",
    "'Internet',\n",
    "'Bathroom',\n",
    "'Kitchen',\n",
    "'Cooler_water',\n",
    "'Centralcooler',\n",
    "'Centralheat',\n",
    "'Pakage',\n",
    "'Cooler_gas',\n",
    "'Sewer_network',\n",
    "'HeadWoman'\n",
    "]\n",
    "for col in cols:\n",
    "    data[col] = data[col].astype(bool)"
   ]
  },
  {
   "cell_type": "code",
   "execution_count": 21,
   "id": "2b5ceedb",
   "metadata": {},
   "outputs": [],
   "source": [
    "data[\"Tenure\"] = np.where(data[\"Tenure\"].isin(['Owner of land and building', 'Free of charge',\n",
    "                                               'In exchange for service','Owner of building only']), \"Owner\",np.where(\n",
    "                                                  data[\"Tenure\"].isin(['Rented', 'Mortgaged']), \"Renter\", 'Other'))"
   ]
  },
  {
   "cell_type": "code",
   "execution_count": 22,
   "id": "cdcb309e",
   "metadata": {},
   "outputs": [],
   "source": [
    "#data.to_pickle(\"data.pkl\")\n",
    "data = pd.read_pickle(\"data.pkl\")\n"
   ]
  },
  {
   "cell_type": "code",
   "execution_count": null,
   "id": "74bbce28",
   "metadata": {},
   "outputs": [],
   "source": [
    "data = data[['HHID',\n",
    "'region',\n",
    "'quarter',\n",
    "'weight',\n",
    "'county_code',\n",
    "'province_code',\n",
    "'HHsize',\n",
    "\"AveAge\",\n",
    "'NumChild_U5',\n",
    "'NumChild_B5_7',\n",
    "'NumChild_B7_18',\n",
    "'NumChildOver18',\n",
    "'HeadWoman',\n",
    "'Num_Literate',\n",
    "'NumEmployed',\n",
    "'NumOld',\n",
    "'NumMale',\n",
    "'Tenure',\n",
    "'Room',\n",
    "'Area',\n",
    "'Skeleton',\n",
    "'MainMaterial',\n",
    "'PrivateVehicle',\n",
    "'Motorcycle',\n",
    "'Bike',\n",
    "'Radio',\n",
    "'Cassette',\n",
    "'TVbw',\n",
    "'TV',\n",
    "'VideoPlayer',\n",
    "'Computer',\n",
    "'Cellphone',\n",
    "'Freezer',\n",
    "'Refrigerator',\n",
    "'Freez_refrig',\n",
    "'Vacuum',\n",
    "'Washer',\n",
    "'Sewing',\n",
    "'Fan',\n",
    "'Cooler_water_portable',\n",
    "'Cooler_gas_portable',\n",
    "'Dishwasher',\n",
    "'None',\n",
    "'Pipewater',\n",
    "'Electricity',\n",
    "'Pipegas',\n",
    "'Phone',\n",
    "'Internet',\n",
    "'Bathroom',\n",
    "'Kitchen',\n",
    "'Cooler_water',\n",
    "'Centralcooler',\n",
    "'Centralheat',\n",
    "'Pakage',\n",
    "'Cooler_gas',\n",
    "'Sewer_network',\n",
    "'Cookfuel',\n",
    "'Heatfuel',\n",
    "'Hotwaterfuel',\n",
    "'FoodExp',\n",
    "'ElectricityExp',\n",
    "'ElectricityOtherExp',\n",
    "'NaturalGasExp',\n",
    "'NaturalGasOtherExp',\n",
    "'OtherEnergyReExp',\n",
    "'year',\n",
    "'all_expenditure',\n",
    "'all_energy_EXP',\n",
    "'energy_Ratio']]"
   ]
  },
  {
   "cell_type": "code",
   "execution_count": 3,
   "id": "41d22496",
   "metadata": {},
   "outputs": [],
   "source": [
    "df1 = pd.get_dummies(data = data['Tenure'], prefix='Tenure_')\n",
    "df2 = pd.get_dummies(data = data['region'], prefix='region_')\n",
    "df3 = pd.get_dummies(data = data['quarter'], prefix='quarter_')\n",
    "df4 = pd.get_dummies(data = data['Skeleton'], prefix='Skeleton_')\n",
    "df5 = pd.get_dummies(data = data['Cookfuel'], prefix='Cookfuel_')\n",
    "df6 = pd.get_dummies(data = data['Heatfuel'], prefix='Heatfuel_')\n",
    "df7 = pd.get_dummies(data = data['Hotwaterfuel'], prefix='Hotwaterfuel_')\n",
    "joindb = data.join(df1).join(df2).join(df3).join(df4).join(df5).join(df6).join(df7)\n",
    "joindb.drop(columns = [\n",
    "    'Tenure','region','quarter','Skeleton','Cookfuel','Heatfuel','Hotwaterfuel',\n",
    "    'region__Rural',\n",
    "    \"MainMaterial\",\n",
    "    \"quarter__Fall\",\"quarter__Summer\",\"quarter__spring\",\n",
    "    \"Skeleton__Other\",\"Skeleton__Metal\",\n",
    "    'Cookfuel__Animal fuel', 'Cookfuel__Diesel', 'Cookfuel__Electricity','Cookfuel__Firewood and charcoal', 'Cookfuel__LPG', 'Cookfuel__None', 'Cookfuel__Other fuels','Cookfuel__White oil',\n",
    "    'Heatfuel__Animal fuel', 'Heatfuel__Diesel', 'Heatfuel__Electricity','Heatfuel__Firewood and charcoal', 'Heatfuel__LPG', 'Heatfuel__None', 'Heatfuel__Other fuels','Heatfuel__White oil',\n",
    "    'Hotwaterfuel__Animal fuel', 'Hotwaterfuel__Diesel','Hotwaterfuel__Electricity', 'Hotwaterfuel__Firewood and charcoal','Hotwaterfuel__LPG', 'Hotwaterfuel__None','Hotwaterfuel__Other fuels', 'Hotwaterfuel__White oil',\n",
    "    'Tenure__Other', 'Tenure__Owner',    \n",
    "    'FoodExp', 'ElectricityExp', 'ElectricityOtherExp', 'NaturalGasExp','NaturalGasOtherExp', 'OtherEnergyReExp', 'all_expenditure', 'all_energy_EXP',\n",
    "    'Motorcycle',\n",
    "    'Bike',\n",
    "    'Radio',\n",
    "    'Cassette',\n",
    "    'TVbw',\n",
    "    'TV',\n",
    "    'VideoPlayer',\n",
    "    'Computer',\n",
    "    'Cellphone',\n",
    "    'Freezer',\n",
    "    'Refrigerator',\n",
    "    'Freez_refrig',\n",
    "    'Vacuum',\n",
    "    'Washer',\n",
    "    'Sewing',\n",
    "    'Fan',\n",
    "    'Cooler_water_portable',\n",
    "    'None'\n",
    "    ], inplace = True)"
   ]
  },
  {
   "cell_type": "code",
   "execution_count": 49,
   "id": "b910093e",
   "metadata": {},
   "outputs": [
    {
     "name": "stdout",
     "output_type": "stream",
     "text": [
      "\n",
      " HHID\n",
      "['2000025066' '2000077193' '2000149068' ... '12707337550' '12713343553'\n",
      " '12105246550']\n",
      "\n",
      " weight\n",
      "[  153.79051396   153.97073722   140.69929671 ... 13999.\n",
      " 19426.         12648.        ]\n",
      "\n",
      " county_code\n",
      "['0001' '0006' '0010' '0005' '0007' '0011' '0004' '0009' '0003' '0002'\n",
      " '0101' '0105' '0103' '0104' '0111' '0107' '0106' '0112' '0114' '0102'\n",
      " '0116' '0108' '0109' '0115' '0110' '0113' '0221' '0214' '0207' '0201'\n",
      " '0218' '0219' '0202' '0205' '0220' '0210' '0215' '0216' '0204' '0208'\n",
      " '0206' '0222' '0307' '0313' '0316' '0311' '0325' '0305' '0302' '0310'\n",
      " '0320' '0312' '0303' '0324' '0314' '0322' '0306' '0315' '0323' '0321'\n",
      " '0319' '0402' '0412' '0413' '0401' '0407' '0411' '0406' '0403' '0410'\n",
      " '0414' '0408' '0405' '0404' '0409' '0504' '0505' '0514' '0502' '0512'\n",
      " '0501' '0511' '0508' '0509' '0503' '0510' '0513' '0507' '0506' '0601'\n",
      " '0611' '0605' '0615' '0603' '0606' '0616' '0608' '0604' '0614' '0618'\n",
      " '0610' '0619' '0620' '0607' '0612' '0613' '0609' '0602' '0617' '0712'\n",
      " '0710' '0707' '0704' '0715' '0719' '0713' '0705' '0711' '0701' '0723'\n",
      " '0716' '0720' '0714' '0706' '0709' '0702' '0708' '0718' '0703' '0721'\n",
      " '0722' '0717' '0724' '0807' '0802' '0803' '0806' '0808' '0810' '0816'\n",
      " '0812' '0804' '0809' '0813' '0814' '0815' '0801' '0805' '0811' '0908'\n",
      " '0915' '0905' '0906' '0913' '0917' '0916' '0920' '0922' '0919' '0927'\n",
      " '0904' '0928' '0918' '0914' '0923' '0930' '0907' '0929' '1002' '1008'\n",
      " '1012' '1018' '1010' '1003' '1006' '1019' '1007' '1005' '1015' '1020'\n",
      " '1014' '1017' '1001' '1016' '1013' '1004' '1011' '1009' '1021' '1110'\n",
      " '1104' '1106' '1101' '1107' '1103' '1109' '1105' '1102' '1108' '1207'\n",
      " '1209' '1202' '1206' '1204' '1205' '1203' '1201' '1208' '1303' '1308'\n",
      " '1301' '1306' '1302' '1305' '1304' '1307' '1404' '1402' '1403' '1401'\n",
      " '1405' '1406' '1506' '1508' '1502' '1505' '1503' '1504' '1507' '1501'\n",
      " '1509' '1607' '1601' '1604' '1606' '1603' '1605' '1602' '1702' '1701'\n",
      " '1703' '1705' '1704' '1801' '1809' '1802' '1803' '1804' '1805' '1806'\n",
      " '1808' '1807' '1904' '1907' '1908' '1901' '1909' '1903' '1906' '2003'\n",
      " '2001' '2004' '2002' '2105' '2103' '2107' '2110' '2101' '2106' '2104'\n",
      " '2109' '2108' '2102' '2202' '2210' '2203' '2206' '2207' '2204' '2201'\n",
      " '2205' '2211' '2208' '2209' '2309' '2306' '2313' '2303' '3002' '2314'\n",
      " '2301' '2304' '2312' '3001' '2302' '2310' '3003' '2403' '2401' '2405'\n",
      " '2408' '2406' '2404' '2402' '2407' '2409' '2501' '2601' '2602' '2603'\n",
      " '2605' '2604' '2709' '2706' '2711' '2703' '2708' '2707' '2705' '2701'\n",
      " '2704' '2702' '2710' '2806' '2805' '2802' '2801' '2804' '2803' '2906'\n",
      " '2903' '2904' '2901' '2905' '2902' '2907' '2911' '0013' '0012' '0224'\n",
      " '0225' '0223' '0326' '0416' '0417' '0415' '0623' '0624' '0621' '0622'\n",
      " '0725' '0728' '0726' '0729' '0727' '0822' '0823' '0818' '0821' '0817'\n",
      " '0819' '0820' '0931' '0935' '0936' '0937' '1022' '1023' '1113' '1114'\n",
      " '1112' '1111' '1210' '1309' '1407' '1510' '1608' '1707' '1706' '2005'\n",
      " '2111' '2212' '2213' '2318' '2317' '2319' '2410' '2712' '2714' '2713'\n",
      " '2807' '2908' '3004' '0934' '0932' '0938' '0933' '2316' '2909' '0226'\n",
      " '0227' '0228' '0625' '0627' '0939' '1024' '1115' '1116' '1117' '1118'\n",
      " '1119' '1408' '1409' '1511' '1609' '1610' '1708' '1810' '1910' '2006'\n",
      " '2007' '2008' '2320' '2321' '2606' '2808' '2910' '3005' '3006']\n",
      "\n",
      " province_code\n",
      "['00' '01' '02' '03' '04' '05' '06' '07' '08' '09' '10' '11' '12' '13'\n",
      " '14' '15' '16' '17' '18' '19' '20' '21' '22' '23' '30' '24' '25' '26'\n",
      " '27' '28' '29']\n",
      "\n",
      " HHsize\n",
      "[ 7.  6.  3.  5.  2.  4.  8.  1. 10. 11. 13.  9. 16. 18. 12. 14. 17. 15.\n",
      " 19. 20.]\n",
      "\n",
      " AveAge\n",
      "[39.28571429 30.83333333 22.66666667 ... 47.14285714 27.46153846\n",
      " 61.2       ]\n",
      "\n",
      " NumChild_U5\n",
      "[0. 1. 2. 3. 4. 5.]\n",
      "\n",
      " NumChild_B5_7\n",
      "[0. 1. 2. 3. 5.]\n",
      "\n",
      " NumChild_B7_18\n",
      "[0. 1. 2. 3. 5. 4. 6. 7. 8. 9.]\n",
      "\n",
      " NumChildOver18\n",
      "[ 5.  3.  0.  1.  2.  4.  7.  6.  9. 10. 11.  8. 12.]\n",
      "\n",
      " HeadWoman\n",
      "[False  True]\n",
      "\n",
      " Num_Literate\n",
      "[ 5.  3.  1.  2.  4.  6.  7.  0.  9. 11.  8. 10. 13. 14. 12. 16.]\n",
      "\n",
      " NumEmployed\n",
      "[ 3.  1.  0.  6.  2.  5.  4. 12.  7. 10.  9.  8.]\n",
      "\n",
      " NumOld\n",
      "[1. 0. 2. 3. 4.]\n",
      "\n",
      " NumMale\n",
      "[ 2.  3.  4.  1.  5.  0.  6.  8.  7.  9. 10. 11. 16.]\n",
      "\n",
      " Room\n",
      "[ 4.  5.  3.  2.  1.  6.  8.  7. 10.  9. nan 15. 11. 13. 14. 12.  0.]\n",
      "\n",
      " Area\n",
      "[110.  90. 120. 145. 100.  85. 130. 150. 160.  80.  70.  20.  36.  35.\n",
      "  40.  30.  60.  50. 140. 185. 170. 180. 138.  12.  65.  27.  24. 200.\n",
      "  88.  45. 250.  38.  25.  19.  18.  32.  84.  52.  55. 115.  86.  26.\n",
      "  48.  75.  22. 300.  62. 155.  58. 122.  68.  95.  28.  72.   9. 220.\n",
      "  10.  64.  17. 190. 380. 340. 400.  15. 125. 175. 124. 127. 105. 102.\n",
      "  91. 230.  93. 176.  42.  78.  98.  16.  83.  56.  67.  94.  54.  57.\n",
      " 112.  81.  74.  43.  21.  63. 118.  82.  87.   6.  44.  99.  71.  77.\n",
      " 123. 128. 106.  92. 113. 103.  96.  89. 148.  73. 136.  49.  46. 135.\n",
      " 165. 132. 104.  66. 240.  76. 101. 288. 152. 137. 146. 108.  14.  97.\n",
      " 270. 178.  37. 144. 228. 114.  34.  31. 280.  39. 210. 126.  33. 151.\n",
      " 260. 121. 172.  59.  23. 187. 153. 157. 320. 134. 107. 275. 109.  51.\n",
      " 370. 147. 214. 500. 234. 212. 232. 217.  61.  41.  69.  53.  47.  79.\n",
      " 188. 143. 168. 350. 154. 204. 156. 215. 117. 116. 111. 195. 198. 290.\n",
      " 265. 196. 360. 159. 225. 133. 182. 169. 236. 131. 224. 205. 129. 142.\n",
      " 161. 158. 333. 330. 208. 219. 163. 183. 164. 184. 173. 315. 186. 149.\n",
      " 177. 207. 263. 162. 365. 171. 139.   4.   8.   3.   5.   7. 520. 239.\n",
      " 119. 216. 199. 310. 281. 700. 229. 450. 192. 401. 660. 221. 285. 213.\n",
      " 319. 440. 167. 550. 197. 255. 245. 174. 238. 600. 235. 194. 480. 141.\n",
      "  13. 218. 990. 202. 276. 227. 211. 266. 390. 503. 294. 249. 189. 283.\n",
      "  29. 420. 277. 498. 336. 800. 640. 254. 203. 317. 327. 206. 179. 191.\n",
      " 710. 247. 166. 580. 193. 397. 410. 233. 430. 362. 237. 226. 402. 345.\n",
      " 264. 248. 292. 181. 489. 284. 302. 252. 289. 256. 470. 382. 375. 307.\n",
      "  11. 364. 209. 258. 296. 282. 274. 231. 242. 278. 326. 269. 222. 358.\n",
      " 369. 460. 259. 286. 261. 540.  nan 312. 361. 372. 335. 650. 201. 305.\n",
      " 295. 262. 328.]\n",
      "\n",
      " PrivateVehicle\n",
      "[False  True]\n",
      "\n",
      " Cooler_gas_portable\n",
      "[False  True]\n",
      "\n",
      " Dishwasher\n",
      "[False  True]\n",
      "\n",
      " Pipewater\n",
      "[ True False]\n",
      "\n",
      " Electricity\n",
      "[ True False]\n",
      "\n",
      " Pipegas\n",
      "[ True False]\n",
      "\n",
      " Phone\n",
      "[ True False]\n",
      "\n",
      " Internet\n",
      "[False  True]\n",
      "\n",
      " Bathroom\n",
      "[ True False]\n",
      "\n",
      " Kitchen\n",
      "[ True False]\n",
      "\n",
      " Cooler_water\n",
      "[False  True]\n",
      "\n",
      " Centralcooler\n",
      "[False  True]\n",
      "\n",
      " Centralheat\n",
      "[False  True]\n",
      "\n",
      " Pakage\n",
      "[False  True]\n",
      "\n",
      " Cooler_gas\n",
      "[False  True]\n",
      "\n",
      " Sewer_network\n",
      "[False  True]\n",
      "\n",
      " year\n",
      "[2010 2011 2012 2013 2014 2015 2016 2017 2018 2019 2020 2021 2022 2023\n",
      " 2024]\n",
      "\n",
      " energy_Ratio\n",
      "[6.80875004 4.46788699 1.3088951  ... 3.06558652 1.53537038 0.813918  ]\n",
      "\n",
      " Tenure__Renter\n",
      "[False  True]\n",
      "\n",
      " region__Urban\n",
      "[False  True]\n",
      "\n",
      " quarter__Winter\n",
      "[False  True]\n",
      "\n",
      " Skeleton__concrete\n",
      "[False  True]\n",
      "\n",
      " Cookfuel__Natural gas\n",
      "[ True False]\n",
      "\n",
      " Heatfuel__Natural gas\n",
      "[ True False]\n",
      "\n",
      " Hotwaterfuel__Natural gas\n",
      "[ True False]\n"
     ]
    }
   ],
   "source": [
    "for col in joindb.columns:\n",
    "    print(\"\\n\", col)\n",
    "    print(joindb[col].unique())"
   ]
  },
  {
   "cell_type": "code",
   "execution_count": 4,
   "id": "ad139f41",
   "metadata": {},
   "outputs": [],
   "source": [
    "joindb.to_pickle(\"joindb.pkl\")"
   ]
  },
  {
   "cell_type": "code",
   "execution_count": 51,
   "id": "30c83aca",
   "metadata": {},
   "outputs": [
    {
     "data": {
      "text/plain": [
       "['HHID',\n",
       " 'weight',\n",
       " 'county_code',\n",
       " 'province_code',\n",
       " 'HHsize',\n",
       " 'AveAge',\n",
       " 'NumChild_U5',\n",
       " 'NumChild_B5_7',\n",
       " 'NumChild_B7_18',\n",
       " 'NumChildOver18',\n",
       " 'HeadWoman',\n",
       " 'Num_Literate',\n",
       " 'NumEmployed',\n",
       " 'NumOld',\n",
       " 'NumMale',\n",
       " 'Room',\n",
       " 'Area',\n",
       " 'PrivateVehicle',\n",
       " 'Cooler_gas_portable',\n",
       " 'Dishwasher',\n",
       " 'Pipewater',\n",
       " 'Electricity',\n",
       " 'Pipegas',\n",
       " 'Phone',\n",
       " 'Internet',\n",
       " 'Bathroom',\n",
       " 'Kitchen',\n",
       " 'Cooler_water',\n",
       " 'Centralcooler',\n",
       " 'Centralheat',\n",
       " 'Pakage',\n",
       " 'Cooler_gas',\n",
       " 'Sewer_network',\n",
       " 'year',\n",
       " 'energy_Ratio',\n",
       " 'Tenure__Renter',\n",
       " 'region__Urban',\n",
       " 'quarter__Winter',\n",
       " 'Skeleton__concrete',\n",
       " 'Cookfuel__Natural gas',\n",
       " 'Heatfuel__Natural gas',\n",
       " 'Hotwaterfuel__Natural gas']"
      ]
     },
     "execution_count": 51,
     "metadata": {},
     "output_type": "execute_result"
    }
   ],
   "source": [
    "joindb.columns.to_list()"
   ]
  },
  {
   "cell_type": "code",
   "execution_count": 6,
   "id": "48729582",
   "metadata": {},
   "outputs": [
    {
     "data": {
      "text/plain": [
       "np.int64(92703)"
      ]
     },
     "execution_count": 6,
     "metadata": {},
     "output_type": "execute_result"
    }
   ],
   "source": [
    "joindb[\"Cooler_gas\"].sum()"
   ]
  },
  {
   "cell_type": "code",
   "execution_count": null,
   "id": "aef2804e",
   "metadata": {},
   "outputs": [
    {
     "name": "stdout",
     "output_type": "stream",
     "text": [
      "\n",
      " The year 2010\n",
      "28627 28627\n",
      "9543 9543\n",
      "MAE:  2.661\n",
      "MSE:  16.788\n",
      "RMSE: 4.097\n",
      "R²:   0.066\n",
      "MAPE: inf%\n",
      "\n",
      " The year 2011\n",
      "28825 28825\n",
      "9609 9609\n",
      "MAE:  4.222\n",
      "MSE:  38.538\n",
      "RMSE: 6.208\n",
      "R²:   0.037\n",
      "MAPE: inf%\n",
      "\n",
      " The year 2012\n",
      "28586 28586\n",
      "9529 9529\n",
      "MAE:  3.159\n",
      "MSE:  24.999\n",
      "RMSE: 5.000\n",
      "R²:   0.076\n",
      "MAPE: inf%\n",
      "\n",
      " The year 2013\n",
      "28680 28680\n",
      "9561 9561\n",
      "MAE:  2.546\n",
      "MSE:  15.331\n",
      "RMSE: 3.915\n",
      "R²:   0.100\n",
      "MAPE: inf%\n",
      "\n",
      " The year 2014\n",
      "28641 28641\n",
      "9548 9548\n",
      "MAE:  2.909\n",
      "MSE:  19.683\n",
      "RMSE: 4.437\n",
      "R²:   0.072\n",
      "MAPE: inf%\n",
      "\n",
      " The year 2015\n",
      "28607 28607\n",
      "9536 9536\n",
      "MAE:  2.911\n",
      "MSE:  20.291\n",
      "RMSE: 4.504\n",
      "R²:   0.128\n",
      "MAPE: inf%\n",
      "\n",
      " The year 2016\n",
      "28516 28516\n",
      "9506 9506\n",
      "MAE:  2.952\n",
      "MSE:  20.542\n",
      "RMSE: 4.532\n",
      "R²:   0.165\n",
      "MAPE: inf%\n",
      "\n",
      " The year 2017\n",
      "28395 28395\n",
      "9465 9465\n",
      "MAE:  2.736\n",
      "MSE:  16.899\n",
      "RMSE: 4.111\n",
      "R²:   0.131\n",
      "MAPE: inf%\n",
      "\n",
      " The year 2018\n",
      "29144 29144\n",
      "9715 9715\n",
      "MAE:  2.324\n",
      "MSE:  13.037\n",
      "RMSE: 3.611\n",
      "R²:   0.115\n",
      "MAPE: inf%\n",
      "\n",
      " The year 2019\n",
      "28647 28647\n",
      "9549 9549\n",
      "MAE:  2.179\n",
      "MSE:  11.822\n",
      "RMSE: 3.438\n",
      "R²:   0.146\n",
      "MAPE: inf%\n",
      "\n",
      " The year 2020\n",
      "28041 28041\n",
      "9348 9348\n",
      "MAE:  1.903\n",
      "MSE:  9.075\n",
      "RMSE: 3.012\n",
      "R²:   0.137\n",
      "MAPE: inf%\n",
      "\n",
      " The year 2021\n",
      "28369 28369\n",
      "9457 9457\n",
      "MAE:  1.556\n",
      "MSE:  7.261\n",
      "RMSE: 2.695\n",
      "R²:   0.111\n",
      "MAPE: inf%\n",
      "\n",
      " The year 2022\n",
      "28374 28374\n",
      "9458 9458\n",
      "MAE:  1.271\n",
      "MSE:  6.035\n",
      "RMSE: 2.457\n",
      "R²:   0.129\n",
      "MAPE: inf%\n",
      "\n",
      " The year 2023\n",
      "28282 28282\n",
      "9428 9428\n",
      "MAE:  1.194\n",
      "MSE:  4.551\n",
      "RMSE: 2.133\n",
      "R²:   0.095\n",
      "MAPE: inf%\n",
      "\n",
      " The year 2024\n",
      "28007 28007\n",
      "9336 9336\n",
      "MAE:  1.161\n",
      "MSE:  5.276\n",
      "RMSE: 2.297\n",
      "R²:   0.091\n",
      "MAPE: inf%\n"
     ]
    }
   ],
   "source": [
    "x_vars = [\n",
    "'HHsize',\n",
    "'AveAge',\n",
    "'NumChild_U5',\n",
    "'NumChild_B5_7',\n",
    "'NumChild_B7_18',\n",
    "'NumChildOver18',\n",
    "'HeadWoman',\n",
    "'Num_Literate',\n",
    "'NumEmployed',\n",
    "'NumOld',\n",
    "'NumMale',\n",
    "'Room',\n",
    "'Area',\n",
    "'PrivateVehicle',\n",
    "'Cooler_gas_portable',\n",
    "'Dishwasher',\n",
    "'Pipewater',\n",
    "'Electricity',\n",
    "'Pipegas',\n",
    "'Phone',\n",
    "'Internet',\n",
    "'Bathroom',\n",
    "'Kitchen',\n",
    "'Cooler_water',\n",
    "'Centralcooler',\n",
    "'Centralheat',\n",
    "'Pakage',\n",
    "'Cooler_gas',\n",
    "'Sewer_network',\n",
    "'Tenure__Renter',\n",
    "'region__Urban',\n",
    "'quarter__Winter',\n",
    "'Skeleton__concrete',\n",
    "'Cookfuel__Natural gas',\n",
    "'Heatfuel__Natural gas',\n",
    "'Hotwaterfuel__Natural gas'\n",
    "]\n",
    "y_var = 'energy_Ratio'\n",
    "w_var = 'weight'\n",
    "df2 = pd.DataFrame()\n",
    "from sklearn.model_selection import train_test_split\n",
    "from sklearn.ensemble import RandomForestRegressor\n",
    "from sklearn.metrics import mean_absolute_error, mean_squared_error, r2_score\n",
    "for year in joindb[\"year\"].unique():\n",
    "    df = joindb.loc[joindb[\"year\"]==year]\n",
    "    X_train, X_test, y_train, y_test ,w_train, w_test = train_test_split(\n",
    "        df[x_vars], df[y_var], df[w_var],test_size = 0.25, random_state = 1)\n",
    "    print(f\"\\n The year {year}\")\n",
    "    print(len(X_train), len(y_train) )\n",
    "    print(len(X_test), len(y_test) )\n",
    "    rfr = RandomForestRegressor(n_estimators = 200, random_state = 1, n_jobs=-1)\n",
    "    rfr.fit(X_train,y_train, sample_weight=w_train)\n",
    "    y_pred = rfr.predict(X_test)\n",
    "    # --- Evaluation Metrics ---\n",
    "    mae = mean_absolute_error(y_test, y_pred, sample_weight=w_test)\n",
    "    mse = mean_squared_error(y_test, y_pred, sample_weight=w_test)\n",
    "    rmse = np.sqrt(mse)\n",
    "    r2 = r2_score(y_test, y_pred, sample_weight=w_test)\n",
    "    mape = np.mean(np.abs((y_test - y_pred) / y_test)) * 100  # % error\n",
    "\n",
    "    # Print results\n",
    "    print(f\"MAE:  {mae:.3f}\")\n",
    "    print(f\"MSE:  {mse:.3f}\")\n",
    "    print(f\"RMSE: {rmse:.3f}\")\n",
    "    print(f\"R²:   {r2:.3f}\")\n",
    "    print(f\"MAPE: {mape:.2f}%\")\n",
    "    \n",
    "    impo = pd.Series(rfr.feature_importances_, index=X_train.columns, name=year)\n",
    "    # Collect into df2\n",
    "    df2 = pd.concat([df2, impo], axis=1)\n",
    "    \n",
    "    "
   ]
  },
  {
   "cell_type": "code",
   "execution_count": 54,
   "id": "24a72261",
   "metadata": {},
   "outputs": [],
   "source": [
    "df2.to_pickle(\"df2.pkl\")"
   ]
  },
  {
   "cell_type": "code",
   "execution_count": 31,
   "id": "f86120e7",
   "metadata": {},
   "outputs": [
    {
     "data": {
      "application/vnd.microsoft.datawrangler.viewer.v0+json": {
       "columns": [
        {
         "name": "index",
         "rawType": "int64",
         "type": "integer"
        },
        {
         "name": "index",
         "rawType": "object",
         "type": "string"
        },
        {
         "name": "2010",
         "rawType": "float64",
         "type": "float"
        },
        {
         "name": "2011",
         "rawType": "float64",
         "type": "float"
        },
        {
         "name": "2012",
         "rawType": "float64",
         "type": "float"
        },
        {
         "name": "2013",
         "rawType": "float64",
         "type": "float"
        },
        {
         "name": "2014",
         "rawType": "float64",
         "type": "float"
        },
        {
         "name": "2015",
         "rawType": "float64",
         "type": "float"
        },
        {
         "name": "2016",
         "rawType": "float64",
         "type": "float"
        },
        {
         "name": "2017",
         "rawType": "float64",
         "type": "float"
        },
        {
         "name": "2018",
         "rawType": "float64",
         "type": "float"
        },
        {
         "name": "2019",
         "rawType": "float64",
         "type": "float"
        },
        {
         "name": "2020",
         "rawType": "float64",
         "type": "float"
        },
        {
         "name": "2021",
         "rawType": "float64",
         "type": "float"
        },
        {
         "name": "2022",
         "rawType": "float64",
         "type": "float"
        },
        {
         "name": "2023",
         "rawType": "float64",
         "type": "float"
        },
        {
         "name": "2024",
         "rawType": "float64",
         "type": "float"
        },
        {
         "name": "mean",
         "rawType": "float64",
         "type": "float"
        }
       ],
       "ref": "a47f1f52-4102-4620-9ffd-a0b0bfeeefdc",
       "rows": [
        [
         "1",
         "AveAge",
         "0.2415502677674979",
         "0.2672608796721919",
         "0.24007467311461628",
         "0.245691566231455",
         "0.2296551527684485",
         "0.2325143273740094",
         "0.22770932134863384",
         "0.22037532438963728",
         "0.22649487907136925",
         "0.2171052552790525",
         "0.24896731649455484",
         "0.21119485724906448",
         "0.226473232332986",
         "0.23817518848783986",
         "0.2330426823566407",
         "0.23375232826253323"
        ],
        [
         "12",
         "Area",
         "0.15617928173660564",
         "0.16326721645353456",
         "0.15855819212271566",
         "0.15296119718967868",
         "0.15107496590670347",
         "0.14028997695292236",
         "0.15049962281920673",
         "0.1482280806149852",
         "0.14377342776516108",
         "0.14620043439346342",
         "0.1409285848998598",
         "0.18021503447694404",
         "0.15048064096862082",
         "0.1627199510305053",
         "0.14940668835201834",
         "0.1529855530455283"
        ],
        [
         "7",
         "Num_Literate",
         "0.046365774745013875",
         "0.051530022499888695",
         "0.06136731622107201",
         "0.05151457007456826",
         "0.05754203314487566",
         "0.08936146998584858",
         "0.09934609459074074",
         "0.09699535578680829",
         "0.10084978054962795",
         "0.05826205227220675",
         "0.03898599201619881",
         "0.035623545723530554",
         "0.04009796444849046",
         "0.037860639332737735",
         "0.04649195485222287",
         "0.060812971082922086"
        ],
        [
         "11",
         "Room",
         "0.05944662073879296",
         "0.05829547086419225",
         "0.06452685373517641",
         "0.05099454252223763",
         "0.05459775114712409",
         "0.049023708745930754",
         "0.05342671133440527",
         "0.045768607452160215",
         "0.04859359852614863",
         "0.04710078075122598",
         "0.05020889256849232",
         "0.06074685214640744",
         "0.05213954531866372",
         "0.04816973682783535",
         "0.05244183394787656",
         "0.053032100441777974"
        ],
        [
         "29",
         "Tenure__Renter",
         "0.025314073157590634",
         "0.028042549664017643",
         "0.03766448784808536",
         "0.04451295523024077",
         "0.05067279662762464",
         "0.052856899527086804",
         "0.04984272548642376",
         "0.05216058955089256",
         "0.05118326146982457",
         "0.05755374394257734",
         "0.04525133078318109",
         "0.03921728884591274",
         "0.04787924499020614",
         "0.03867714717499254",
         "0.056167292047505105",
         "0.04513309242307744"
        ]
       ],
       "shape": {
        "columns": 17,
        "rows": 5
       }
      },
      "text/html": [
       "<div>\n",
       "<style scoped>\n",
       "    .dataframe tbody tr th:only-of-type {\n",
       "        vertical-align: middle;\n",
       "    }\n",
       "\n",
       "    .dataframe tbody tr th {\n",
       "        vertical-align: top;\n",
       "    }\n",
       "\n",
       "    .dataframe thead th {\n",
       "        text-align: right;\n",
       "    }\n",
       "</style>\n",
       "<table border=\"1\" class=\"dataframe\">\n",
       "  <thead>\n",
       "    <tr style=\"text-align: right;\">\n",
       "      <th></th>\n",
       "      <th>index</th>\n",
       "      <th>2010</th>\n",
       "      <th>2011</th>\n",
       "      <th>2012</th>\n",
       "      <th>2013</th>\n",
       "      <th>2014</th>\n",
       "      <th>2015</th>\n",
       "      <th>2016</th>\n",
       "      <th>2017</th>\n",
       "      <th>2018</th>\n",
       "      <th>2019</th>\n",
       "      <th>2020</th>\n",
       "      <th>2021</th>\n",
       "      <th>2022</th>\n",
       "      <th>2023</th>\n",
       "      <th>2024</th>\n",
       "      <th>mean</th>\n",
       "    </tr>\n",
       "  </thead>\n",
       "  <tbody>\n",
       "    <tr>\n",
       "      <th>1</th>\n",
       "      <td>AveAge</td>\n",
       "      <td>0.241550</td>\n",
       "      <td>0.267261</td>\n",
       "      <td>0.240075</td>\n",
       "      <td>0.245692</td>\n",
       "      <td>0.229655</td>\n",
       "      <td>0.232514</td>\n",
       "      <td>0.227709</td>\n",
       "      <td>0.220375</td>\n",
       "      <td>0.226495</td>\n",
       "      <td>0.217105</td>\n",
       "      <td>0.248967</td>\n",
       "      <td>0.211195</td>\n",
       "      <td>0.226473</td>\n",
       "      <td>0.238175</td>\n",
       "      <td>0.233043</td>\n",
       "      <td>0.233752</td>\n",
       "    </tr>\n",
       "    <tr>\n",
       "      <th>12</th>\n",
       "      <td>Area</td>\n",
       "      <td>0.156179</td>\n",
       "      <td>0.163267</td>\n",
       "      <td>0.158558</td>\n",
       "      <td>0.152961</td>\n",
       "      <td>0.151075</td>\n",
       "      <td>0.140290</td>\n",
       "      <td>0.150500</td>\n",
       "      <td>0.148228</td>\n",
       "      <td>0.143773</td>\n",
       "      <td>0.146200</td>\n",
       "      <td>0.140929</td>\n",
       "      <td>0.180215</td>\n",
       "      <td>0.150481</td>\n",
       "      <td>0.162720</td>\n",
       "      <td>0.149407</td>\n",
       "      <td>0.152986</td>\n",
       "    </tr>\n",
       "    <tr>\n",
       "      <th>7</th>\n",
       "      <td>Num_Literate</td>\n",
       "      <td>0.046366</td>\n",
       "      <td>0.051530</td>\n",
       "      <td>0.061367</td>\n",
       "      <td>0.051515</td>\n",
       "      <td>0.057542</td>\n",
       "      <td>0.089361</td>\n",
       "      <td>0.099346</td>\n",
       "      <td>0.096995</td>\n",
       "      <td>0.100850</td>\n",
       "      <td>0.058262</td>\n",
       "      <td>0.038986</td>\n",
       "      <td>0.035624</td>\n",
       "      <td>0.040098</td>\n",
       "      <td>0.037861</td>\n",
       "      <td>0.046492</td>\n",
       "      <td>0.060813</td>\n",
       "    </tr>\n",
       "    <tr>\n",
       "      <th>11</th>\n",
       "      <td>Room</td>\n",
       "      <td>0.059447</td>\n",
       "      <td>0.058295</td>\n",
       "      <td>0.064527</td>\n",
       "      <td>0.050995</td>\n",
       "      <td>0.054598</td>\n",
       "      <td>0.049024</td>\n",
       "      <td>0.053427</td>\n",
       "      <td>0.045769</td>\n",
       "      <td>0.048594</td>\n",
       "      <td>0.047101</td>\n",
       "      <td>0.050209</td>\n",
       "      <td>0.060747</td>\n",
       "      <td>0.052140</td>\n",
       "      <td>0.048170</td>\n",
       "      <td>0.052442</td>\n",
       "      <td>0.053032</td>\n",
       "    </tr>\n",
       "    <tr>\n",
       "      <th>29</th>\n",
       "      <td>Tenure__Renter</td>\n",
       "      <td>0.025314</td>\n",
       "      <td>0.028043</td>\n",
       "      <td>0.037664</td>\n",
       "      <td>0.044513</td>\n",
       "      <td>0.050673</td>\n",
       "      <td>0.052857</td>\n",
       "      <td>0.049843</td>\n",
       "      <td>0.052161</td>\n",
       "      <td>0.051183</td>\n",
       "      <td>0.057554</td>\n",
       "      <td>0.045251</td>\n",
       "      <td>0.039217</td>\n",
       "      <td>0.047879</td>\n",
       "      <td>0.038677</td>\n",
       "      <td>0.056167</td>\n",
       "      <td>0.045133</td>\n",
       "    </tr>\n",
       "  </tbody>\n",
       "</table>\n",
       "</div>"
      ],
      "text/plain": [
       "             index      2010      2011      2012      2013      2014  \\\n",
       "1           AveAge  0.241550  0.267261  0.240075  0.245692  0.229655   \n",
       "12            Area  0.156179  0.163267  0.158558  0.152961  0.151075   \n",
       "7     Num_Literate  0.046366  0.051530  0.061367  0.051515  0.057542   \n",
       "11            Room  0.059447  0.058295  0.064527  0.050995  0.054598   \n",
       "29  Tenure__Renter  0.025314  0.028043  0.037664  0.044513  0.050673   \n",
       "\n",
       "        2015      2016      2017      2018      2019      2020      2021  \\\n",
       "1   0.232514  0.227709  0.220375  0.226495  0.217105  0.248967  0.211195   \n",
       "12  0.140290  0.150500  0.148228  0.143773  0.146200  0.140929  0.180215   \n",
       "7   0.089361  0.099346  0.096995  0.100850  0.058262  0.038986  0.035624   \n",
       "11  0.049024  0.053427  0.045769  0.048594  0.047101  0.050209  0.060747   \n",
       "29  0.052857  0.049843  0.052161  0.051183  0.057554  0.045251  0.039217   \n",
       "\n",
       "        2022      2023      2024      mean  \n",
       "1   0.226473  0.238175  0.233043  0.233752  \n",
       "12  0.150481  0.162720  0.149407  0.152986  \n",
       "7   0.040098  0.037861  0.046492  0.060813  \n",
       "11  0.052140  0.048170  0.052442  0.053032  \n",
       "29  0.047879  0.038677  0.056167  0.045133  "
      ]
     },
     "execution_count": 31,
     "metadata": {},
     "output_type": "execute_result"
    }
   ],
   "source": [
    "df2= pd.read_pickle(\"df2.pkl\")\n",
    "df2= df2.reset_index(drop=False)\n",
    "df2[\"mean\"] = df2.select_dtypes(include=\"number\").mean(axis=1)\n",
    "df2= df2.sort_values(\"mean\", ascending=False)\n",
    "df2.head()"
   ]
  },
  {
   "cell_type": "code",
   "execution_count": 34,
   "id": "94353b7e",
   "metadata": {},
   "outputs": [
    {
     "data": {
      "image/png": "[encoded data removed]",
      "text/plain": [
       "<Figure size 800x800 with 1 Axes>"
      ]
     },
     "metadata": {},
     "output_type": "display_data"
    }
   ],
   "source": [
    "fig, ax = plt.subplots(figsize=(8, 8))\n",
    "\n",
    "ax.bar(df2[\"index\"],df2[\"mean\"], alpha = 0.4)\n",
    "plt.xticks(rotation = 90)\n",
    "plt.show()\n",
    "    "
   ]
  },
  {
   "cell_type": "code",
   "execution_count": null,
   "id": "5334a94f",
   "metadata": {},
   "outputs": [],
   "source": []
  }
 ],
 "metadata": {
  "kernelspec": {
   "display_name": "Python 3",
   "language": "python",
   "name": "python3"
  },
  "language_info": {
   "codemirror_mode": {
    "name": "ipython",
    "version": 3
   },
   "file_extension": ".py",
   "mimetype": "text/x-python",
   "name": "python",
   "nbconvert_exporter": "python",
   "pygments_lexer": "ipython3",
   "version": "3.13.7"
  }
 },
 "nbformat": 4,
 "nbformat_minor": 5
}
